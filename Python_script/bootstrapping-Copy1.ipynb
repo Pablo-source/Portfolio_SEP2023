{
 "cells": [
  {
   "cell_type": "code",
   "execution_count": 1,
   "metadata": {},
   "outputs": [
    {
     "name": "stdout",
     "output_type": "stream",
     "text": [
      "Requirement already satisfied: tqdm in /opt/anaconda/envs/Python3/lib/python3.6/site-packages (4.46.1)\r\n"
     ]
    }
   ],
   "source": [
    "!pip install tqdm"
   ]
  },
  {
   "cell_type": "code",
   "execution_count": 2,
   "metadata": {},
   "outputs": [
    {
     "name": "stdout",
     "output_type": "stream",
     "text": [
      "--2020-07-30 11:39:06--  https://s3-eu-west-1.amazonaws.com/faculty-client-teaching-materials/computational-statistics/bank-marketing-data.csv\n",
      "Resolving s3-eu-west-1.amazonaws.com (s3-eu-west-1.amazonaws.com)... 52.218.90.123\n",
      "Connecting to s3-eu-west-1.amazonaws.com (s3-eu-west-1.amazonaws.com)|52.218.90.123|:443... connected.\n",
      "HTTP request sent, awaiting response... 200 OK\n",
      "Length: 5834924 (5.6M) [text/csv]\n",
      "Saving to: ‘bank-marketing-data.csv’\n",
      "\n",
      "bank-marketing-data 100%[===================>]   5.56M  --.-KB/s    in 0.02s   \n",
      "\n",
      "2020-07-30 11:39:06 (294 MB/s) - ‘bank-marketing-data.csv’ saved [5834924/5834924]\n",
      "\n"
     ]
    }
   ],
   "source": [
    "from pathlib import Path\n",
    "\n",
    "import matplotlib.pyplot as plt\n",
    "import numpy as np\n",
    "import pandas as pd\n",
    "from scipy.stats import lognorm\n",
    "%matplotlib inline\n",
    "\n",
    "from tqdm.notebook import tqdm\n",
    "\n",
    "if not Path('bank-marketing-data.csv').exists():\n",
    "    !wget https://s3-eu-west-1.amazonaws.com/faculty-client-teaching-materials/computational-statistics/bank-marketing-data.csv"
   ]
  },
  {
   "cell_type": "markdown",
   "metadata": {},
   "source": [
    "# 0. Contents\n",
    "\n",
    "1. [Introduction](#1)\n",
    "2. [Data](#2)\n",
    "    1. [Load data](#2.1)\n",
    "    2. [Problem: duration of the average call](#2.2)\n",
    "3. [Classical approach](#3)\n",
    "    1. [Estimate call duration](#3.1)\n",
    "    2. [Standard errors](#3.2)\n",
    "    3. [Summary so far](#3.3)\n",
    "4. [Bootstrapping](#4)\n",
    "    1. [Implementing bootstrap sampling](#4.1)\n",
    "    2. [Bootstrap Standard Errors](#4.2)\n",
    "5. [Parametric bootstrapping](#5)\n",
    " "
   ]
  },
  {
   "cell_type": "markdown",
   "metadata": {},
   "source": [
    "### Summary of exercises\n",
    "\n",
    "1. [Estimate call duration](#calc_stats)\n",
    "2. [Standard deviation of the sampling distribution of the mean](#mean_se)\n",
    "3. [Computational estimates of standard error for median and trimmed mean](#tr_mean_med_se)\n",
    "4. [Alternative approach for standard error of trimmed mean](#trim_mean_se)\n",
    "    1. [Asymptotic formula for standard error of median](#asym_median)\n",
    "5. [Bootstrap sample](#bootstrap_sample)\n",
    "6. [Bootstrap sampling](#bootstrap_sampling)\n",
    "7. [Efficient bootstrap sampling](#eff_bootstrap_sampling)\n",
    "8. [Bootstrapping to obtain standard errors](#bootstrap_se)\n",
    "9. [Parametric bootstrapping](#parametric_bootstrapping)"
   ]
  },
  {
   "cell_type": "markdown",
   "metadata": {},
   "source": [
    "# 1. Introduction <a id=\"1\"></a>"
   ]
  },
  {
   "cell_type": "markdown",
   "metadata": {},
   "source": [
    "We are going to look at how long people spend on the phone. We will treat `df[\"duration\"]` as though it were the true population distribution whilst only having access to a subset of this information, i.e. a sample from the true population distribution.\n",
    "\n",
    "**Goal** \n",
    "\n",
    "1. Obtain estimates for the duration of the average call, considering 3 different statistics for our notion of 'average call': \n",
    "    * mean\n",
    "    * trimmed mean\n",
    "    * median\n",
    "\n",
    "2. Understand how precise we can expect our estimates to be (that is, how much they might differ from the 'true' value of the statistic obtained when computed using the entire population). We will do this by estimating properties of their sampling distributions."
   ]
  },
  {
   "cell_type": "markdown",
   "metadata": {},
   "source": [
    "# 2. Data <a id=\"2\"></a>"
   ]
  },
  {
   "cell_type": "markdown",
   "metadata": {},
   "source": [
    "### 2.1 Load data <a id=\"2.1\"></a>"
   ]
  },
  {
   "cell_type": "markdown",
   "metadata": {},
   "source": [
    "This is a dataset of information to do with telephone marketing campaigns by a Portuguese bank, documented [here](https://archive.ics.uci.edu/ml/datasets/bank+marketing).\n",
    "\n",
    "<sup>Dataset: [Moro et al., 2014] S. Moro, P. Cortez and P. Rita. A Data-Driven Approach to Predict the Success of Bank Telemarketing. Decision Support Systems, Elsevier, 62:22-31, June 2014</sup>"
   ]
  },
  {
   "cell_type": "code",
   "execution_count": 3,
   "metadata": {},
   "outputs": [],
   "source": [
    "df = pd.read_csv(\"bank-marketing-data.csv\", sep=\";\")"
   ]
  },
  {
   "cell_type": "code",
   "execution_count": 4,
   "metadata": {},
   "outputs": [
    {
     "data": {
      "text/html": [
       "<div>\n",
       "<style scoped>\n",
       "    .dataframe tbody tr th:only-of-type {\n",
       "        vertical-align: middle;\n",
       "    }\n",
       "\n",
       "    .dataframe tbody tr th {\n",
       "        vertical-align: top;\n",
       "    }\n",
       "\n",
       "    .dataframe thead th {\n",
       "        text-align: right;\n",
       "    }\n",
       "</style>\n",
       "<table border=\"1\" class=\"dataframe\">\n",
       "  <thead>\n",
       "    <tr style=\"text-align: right;\">\n",
       "      <th></th>\n",
       "      <th>age</th>\n",
       "      <th>job</th>\n",
       "      <th>marital</th>\n",
       "      <th>education</th>\n",
       "      <th>default</th>\n",
       "      <th>housing</th>\n",
       "      <th>loan</th>\n",
       "      <th>contact</th>\n",
       "      <th>month</th>\n",
       "      <th>day_of_week</th>\n",
       "      <th>...</th>\n",
       "      <th>campaign</th>\n",
       "      <th>pdays</th>\n",
       "      <th>previous</th>\n",
       "      <th>poutcome</th>\n",
       "      <th>emp.var.rate</th>\n",
       "      <th>cons.price.idx</th>\n",
       "      <th>cons.conf.idx</th>\n",
       "      <th>euribor3m</th>\n",
       "      <th>nr.employed</th>\n",
       "      <th>y</th>\n",
       "    </tr>\n",
       "  </thead>\n",
       "  <tbody>\n",
       "    <tr>\n",
       "      <th>0</th>\n",
       "      <td>56</td>\n",
       "      <td>housemaid</td>\n",
       "      <td>married</td>\n",
       "      <td>basic.4y</td>\n",
       "      <td>no</td>\n",
       "      <td>no</td>\n",
       "      <td>no</td>\n",
       "      <td>telephone</td>\n",
       "      <td>may</td>\n",
       "      <td>mon</td>\n",
       "      <td>...</td>\n",
       "      <td>1</td>\n",
       "      <td>999</td>\n",
       "      <td>0</td>\n",
       "      <td>nonexistent</td>\n",
       "      <td>1.1</td>\n",
       "      <td>93.994</td>\n",
       "      <td>-36.4</td>\n",
       "      <td>4.857</td>\n",
       "      <td>5191.0</td>\n",
       "      <td>no</td>\n",
       "    </tr>\n",
       "    <tr>\n",
       "      <th>1</th>\n",
       "      <td>57</td>\n",
       "      <td>services</td>\n",
       "      <td>married</td>\n",
       "      <td>high.school</td>\n",
       "      <td>unknown</td>\n",
       "      <td>no</td>\n",
       "      <td>no</td>\n",
       "      <td>telephone</td>\n",
       "      <td>may</td>\n",
       "      <td>mon</td>\n",
       "      <td>...</td>\n",
       "      <td>1</td>\n",
       "      <td>999</td>\n",
       "      <td>0</td>\n",
       "      <td>nonexistent</td>\n",
       "      <td>1.1</td>\n",
       "      <td>93.994</td>\n",
       "      <td>-36.4</td>\n",
       "      <td>4.857</td>\n",
       "      <td>5191.0</td>\n",
       "      <td>no</td>\n",
       "    </tr>\n",
       "    <tr>\n",
       "      <th>2</th>\n",
       "      <td>37</td>\n",
       "      <td>services</td>\n",
       "      <td>married</td>\n",
       "      <td>high.school</td>\n",
       "      <td>no</td>\n",
       "      <td>yes</td>\n",
       "      <td>no</td>\n",
       "      <td>telephone</td>\n",
       "      <td>may</td>\n",
       "      <td>mon</td>\n",
       "      <td>...</td>\n",
       "      <td>1</td>\n",
       "      <td>999</td>\n",
       "      <td>0</td>\n",
       "      <td>nonexistent</td>\n",
       "      <td>1.1</td>\n",
       "      <td>93.994</td>\n",
       "      <td>-36.4</td>\n",
       "      <td>4.857</td>\n",
       "      <td>5191.0</td>\n",
       "      <td>no</td>\n",
       "    </tr>\n",
       "    <tr>\n",
       "      <th>3</th>\n",
       "      <td>40</td>\n",
       "      <td>admin.</td>\n",
       "      <td>married</td>\n",
       "      <td>basic.6y</td>\n",
       "      <td>no</td>\n",
       "      <td>no</td>\n",
       "      <td>no</td>\n",
       "      <td>telephone</td>\n",
       "      <td>may</td>\n",
       "      <td>mon</td>\n",
       "      <td>...</td>\n",
       "      <td>1</td>\n",
       "      <td>999</td>\n",
       "      <td>0</td>\n",
       "      <td>nonexistent</td>\n",
       "      <td>1.1</td>\n",
       "      <td>93.994</td>\n",
       "      <td>-36.4</td>\n",
       "      <td>4.857</td>\n",
       "      <td>5191.0</td>\n",
       "      <td>no</td>\n",
       "    </tr>\n",
       "    <tr>\n",
       "      <th>4</th>\n",
       "      <td>56</td>\n",
       "      <td>services</td>\n",
       "      <td>married</td>\n",
       "      <td>high.school</td>\n",
       "      <td>no</td>\n",
       "      <td>no</td>\n",
       "      <td>yes</td>\n",
       "      <td>telephone</td>\n",
       "      <td>may</td>\n",
       "      <td>mon</td>\n",
       "      <td>...</td>\n",
       "      <td>1</td>\n",
       "      <td>999</td>\n",
       "      <td>0</td>\n",
       "      <td>nonexistent</td>\n",
       "      <td>1.1</td>\n",
       "      <td>93.994</td>\n",
       "      <td>-36.4</td>\n",
       "      <td>4.857</td>\n",
       "      <td>5191.0</td>\n",
       "      <td>no</td>\n",
       "    </tr>\n",
       "  </tbody>\n",
       "</table>\n",
       "<p>5 rows × 21 columns</p>\n",
       "</div>"
      ],
      "text/plain": [
       "   age        job  marital    education  default housing loan    contact  \\\n",
       "0   56  housemaid  married     basic.4y       no      no   no  telephone   \n",
       "1   57   services  married  high.school  unknown      no   no  telephone   \n",
       "2   37   services  married  high.school       no     yes   no  telephone   \n",
       "3   40     admin.  married     basic.6y       no      no   no  telephone   \n",
       "4   56   services  married  high.school       no      no  yes  telephone   \n",
       "\n",
       "  month day_of_week  ...  campaign  pdays  previous     poutcome emp.var.rate  \\\n",
       "0   may         mon  ...         1    999         0  nonexistent          1.1   \n",
       "1   may         mon  ...         1    999         0  nonexistent          1.1   \n",
       "2   may         mon  ...         1    999         0  nonexistent          1.1   \n",
       "3   may         mon  ...         1    999         0  nonexistent          1.1   \n",
       "4   may         mon  ...         1    999         0  nonexistent          1.1   \n",
       "\n",
       "   cons.price.idx  cons.conf.idx  euribor3m  nr.employed   y  \n",
       "0          93.994          -36.4      4.857       5191.0  no  \n",
       "1          93.994          -36.4      4.857       5191.0  no  \n",
       "2          93.994          -36.4      4.857       5191.0  no  \n",
       "3          93.994          -36.4      4.857       5191.0  no  \n",
       "4          93.994          -36.4      4.857       5191.0  no  \n",
       "\n",
       "[5 rows x 21 columns]"
      ]
     },
     "execution_count": 4,
     "metadata": {},
     "output_type": "execute_result"
    }
   ],
   "source": [
    "df.head()"
   ]
  },
  {
   "cell_type": "code",
   "execution_count": 6,
   "metadata": {},
   "outputs": [
    {
     "data": {
      "text/plain": [
       "age                 int64\n",
       "job                object\n",
       "marital            object\n",
       "education          object\n",
       "default            object\n",
       "housing            object\n",
       "loan               object\n",
       "contact            object\n",
       "month              object\n",
       "day_of_week        object\n",
       "duration            int64\n",
       "campaign            int64\n",
       "pdays               int64\n",
       "previous            int64\n",
       "poutcome           object\n",
       "emp.var.rate      float64\n",
       "cons.price.idx    float64\n",
       "cons.conf.idx     float64\n",
       "euribor3m         float64\n",
       "nr.employed       float64\n",
       "y                  object\n",
       "dtype: object"
      ]
     },
     "execution_count": 6,
     "metadata": {},
     "output_type": "execute_result"
    }
   ],
   "source": [
    "df.dtypes"
   ]
  },
  {
   "cell_type": "markdown",
   "metadata": {},
   "source": [
    "So how long do people spend on the phone, typically?"
   ]
  },
  {
   "cell_type": "code",
   "execution_count": 5,
   "metadata": {},
   "outputs": [
    {
     "data": {
      "image/png": "[encoded data removed]",
      "text/plain": [
       "<Figure size 1080x360 with 1 Axes>"
      ]
     },
     "metadata": {
      "needs_background": "light"
     },
     "output_type": "display_data"
    }
   ],
   "source": [
    "df[\"duration\"].plot.hist(bins=\"fd\", figsize=(15, 5));"
   ]
  },
  {
   "cell_type": "markdown",
   "metadata": {},
   "source": [
    "### 2.2 Problem: duration of the average call <a id=\"2.2\"></a>"
   ]
  },
  {
   "cell_type": "markdown",
   "metadata": {},
   "source": [
    "* Imagine that we are only given a sample of 5000 points from this distribution of call times (say, the call durations from just one call centre), and our task is to obtain an estimate for the duration of the average call which is relatively precise. As discussed above, we'll examine using three different statistics for this purpose: the mean, the trimmed mean, and the median.\n",
    "* To work out which of these three statistics has the smallest error on our dataset, we'll need to find ways of estimating properties of their **sampling distributions**. Namely, the standard deviation/error of these distributions, and their percentiles (in order to build confidence intervals).\n",
    "* Another motivation for considering both the median and trimmed mean as well as just the mean is that what we're really interested in is the **duration of the average call** rather than the **average call duration** - we want to be wary of the effect of outliers in our analysis."
   ]
  },
  {
   "cell_type": "markdown",
   "metadata": {},
   "source": [
    "To start, let's get a sample of data."
   ]
  },
  {
   "cell_type": "code",
   "execution_count": null,
   "metadata": {},
   "outputs": [],
   "source": [
    "sample = np.array(df[\"duration\"].sample(5000, random_state=16))"
   ]
  },
  {
   "cell_type": "markdown",
   "metadata": {},
   "source": [
    "# 3. Classical approach <a id=\"3\"></a>"
   ]
  },
  {
   "cell_type": "markdown",
   "metadata": {},
   "source": [
    "Before looking at bootstrapping we are going to see how/if results from asymptotic theory can help us obtain information about the sampling distribution of our 3 statistics of interest."
   ]
  },
  {
   "cell_type": "markdown",
   "metadata": {},
   "source": [
    "### 3.1 Estimate call duration <a id=\"3.1\"></a>"
   ]
  },
  {
   "cell_type": "markdown",
   "metadata": {},
   "source": [
    "#### Exercise 1: estimate call duration <a id=\"calc_stats\"></a>"
   ]
  },
  {
   "cell_type": "markdown",
   "metadata": {},
   "source": [
    "**Ex**: What are the mean and median of `sample`?"
   ]
  },
  {
   "cell_type": "code",
   "execution_count": null,
   "metadata": {},
   "outputs": [],
   "source": [
    "# your code here"
   ]
  },
  {
   "cell_type": "markdown",
   "metadata": {},
   "source": [
    "**Ex**: Write a function `trimmed_mean` which takes as input an array `arr` of call times and returns the mean of the middle 90 percent. That is, it returns the average of all the points which aren't in the bottom or top 5%. What is `trimmed_mean(sample)`?"
   ]
  },
  {
   "cell_type": "code",
   "execution_count": null,
   "metadata": {},
   "outputs": [],
   "source": [
    "# your code here"
   ]
  },
  {
   "cell_type": "code",
   "execution_count": null,
   "metadata": {},
   "outputs": [],
   "source": [
    "# do feel free to use more than one cell for your computations!"
   ]
  },
  {
   "cell_type": "markdown",
   "metadata": {},
   "source": [
    "### 3.2 Standard errors  <a id=\"3.2\"></a>"
   ]
  },
  {
   "cell_type": "markdown",
   "metadata": {},
   "source": [
    "Asymptotic theory would advise us that the sampling distribution of the mean here is well approximated by:\n",
    "\n",
    "$$\\overline{X} \\sim \\mathcal{N}\\big(\\mu, \\frac{\\sigma^2}{N}\\big),$$ \n",
    "\n",
    "where $\\mu$ and $\\sigma$ are the mean and standard deviation of the true population, here `df['duration']`. We can construct a 95% confidence interval for $\\mu$ according to the formula:\n",
    "\n",
    "$$[\\overline{x} -1.96\\frac{\\sigma}{\\sqrt{N}},\\overline{x} +1.96\\frac{\\sigma}{\\sqrt{N}}].$$"
   ]
  },
  {
   "cell_type": "markdown",
   "metadata": {},
   "source": [
    "#### Exercise 2: standard deviation of the sampling distribution of the mean <a id=\"mean_se\"></a>"
   ]
  },
  {
   "cell_type": "markdown",
   "metadata": {},
   "source": [
    "**Ex**: How well does the asymptotic estimate $\\overline{\\sigma}/\\sqrt{N}$ for the standard deviation of the sampling distribution of the mean compare to the true standard deviation in this case? You can estimate the latter by drawing repeated samples of size `5_000` from `df['duration']` and computing the standard deviaton of these."
   ]
  },
  {
   "cell_type": "code",
   "execution_count": null,
   "metadata": {},
   "outputs": [],
   "source": [
    "# your code here"
   ]
  },
  {
   "cell_type": "markdown",
   "metadata": {},
   "source": [
    "* The Central Limit Theorem is very well known, but can only help us estimate the sampling distribution of the mean (although it turns out that asymptotic formulas [do exist](https://stats.stackexchange.com/a/86725) for statistics like the median - they just have parameters which are harder to compute)."
   ]
  },
  {
   "cell_type": "markdown",
   "metadata": {},
   "source": [
    "#### Exercise 3: computational estimates of standard error for median and trimmed mean <a id=\"tr_mean_med_se\"></a>"
   ]
  },
  {
   "cell_type": "markdown",
   "metadata": {},
   "source": [
    "3. What are the standard error of the median and trimmed mean of `sample` in our case? \n",
    "* As with the mean, you can estimate these by drawing repeated samples of size `5_000` from `df['duration']`. Would it have been a good idea to use $\\overline{\\sigma}/\\sqrt{N}$ as an estimate for these, effectively assuming that they had the same asymptotic distribution as the mean?"
   ]
  },
  {
   "cell_type": "code",
   "execution_count": null,
   "metadata": {},
   "outputs": [],
   "source": [
    "# your code here"
   ]
  },
  {
   "cell_type": "markdown",
   "metadata": {},
   "source": [
    "#### Exercise 4: alternative approach for standard error of trimmed mean <a id=\"trim_mean_se\"></a>"
   ]
  },
  {
   "cell_type": "markdown",
   "metadata": {},
   "source": [
    "**Ex**: A more considered approach to estimating the standard error of the trimmed mean might be to use the formula $\\sigma_{\\text{trimmed}}/\\sqrt{N}$, where $\\sigma_{\\text{trimmed}}$ is the standard deviation of the middle 90 percent of our sample. How closely does this match the true standard error?"
   ]
  },
  {
   "cell_type": "code",
   "execution_count": null,
   "metadata": {},
   "outputs": [],
   "source": [
    "# your code here"
   ]
  },
  {
   "cell_type": "markdown",
   "metadata": {},
   "source": [
    "### Exercise 4.5 [optional] : asymptotic formula for standard error of median <a id=\"asym_median\"></a>"
   ]
  },
  {
   "cell_type": "markdown",
   "metadata": {},
   "source": [
    "**Come back and do this if you finish early and get bored**\n",
    "\n",
    "* Given that an asymptotic formula for the sampling distribution of the median does exist and the CLT does so well when it comes to approximating the sampling distribution of the mean, it's natural to think that we should use asymptotic theory to estimate the standard error of the median as well. \n",
    "* We just need to approximate the formula $1/(2f(m))$ where $f$ is the density function of our underlying distribution and $m$ is the median of `df['duration']`.\n",
    "\n",
    "\n",
    "**Ex**: Estimate $m$ with the median of `sample` and use a kernel density estimate of `sample` to approximate $f$- how well does this perform?"
   ]
  },
  {
   "cell_type": "code",
   "execution_count": null,
   "metadata": {},
   "outputs": [],
   "source": [
    "# your code here"
   ]
  },
  {
   "cell_type": "markdown",
   "metadata": {},
   "source": [
    " ### 3.3 Summary so far  <a id=\"3.3\"></a>"
   ]
  },
  {
   "cell_type": "markdown",
   "metadata": {},
   "source": [
    "* We definitely shouldn't use the asymptotic formula for the standard error of the mean to estimate the standard error of the median or trimmed median.\n",
    "* Asymptotic formulae can work well if we know the right formula for each statistic. These can be very esoteric, however, and you have to either know or be able to compute the right formula in order to use it. What asymptotic formula should we use for the trimmed mean?\n",
    "* Given that the use classical or asymptotic techniques and estimates is impractical for the median and trimmed mean (which are the statistics which would actually be useful for us here, given their resistance to outliers), it seems that we're in trouble. How can we use these statistics if we're unable to estimate their accuracy?\n",
    "* Unsurprisingly, the answer that we'll explore here is the bootstrap."
   ]
  },
  {
   "cell_type": "markdown",
   "metadata": {},
   "source": [
    "# 4. Bootstrapping <a id=\"4\"></a>\n",
    "\n",
    "### 4.1. Implementing bootstrap sampling <a id=\"4.1\"></a>"
   ]
  },
  {
   "cell_type": "markdown",
   "metadata": {},
   "source": [
    "#### Exercise 5: bootstrap sample  <a id=\"bootstrap_sample\"></a>"
   ]
  },
  {
   "cell_type": "markdown",
   "metadata": {},
   "source": [
    "**Ex**: Use the functions `np.random.choice` and `np.mean` to write a function `bootstrap_sample` which should take in an array `arr` as input and return the mean of a random bootstrap sample (of the same size as `arr`) from that array."
   ]
  },
  {
   "cell_type": "code",
   "execution_count": null,
   "metadata": {},
   "outputs": [],
   "source": [
    "def bootstrap_sample(arr):\n",
    "    # your code here"
   ]
  },
  {
   "cell_type": "markdown",
   "metadata": {},
   "source": [
    "#### Exercise 6: bootstrap sampling  <a id=\"bootstrap_sampling\"></a>"
   ]
  },
  {
   "cell_type": "markdown",
   "metadata": {},
   "source": [
    "**Ex**: Now use `bootstrap_sample` within a list comprehension to sample from `sample` with replacement 5000 times in order to construct a bootstrap estimate for the sampling distribution of `sample.mean()`:"
   ]
  },
  {
   "cell_type": "code",
   "execution_count": null,
   "metadata": {},
   "outputs": [],
   "source": [
    "b_strapped = np.array(\n",
    "    [\n",
    "        #  [your code here] --> keep this: for i in tqdm(range(5000))\n",
    "    ]\n",
    ")"
   ]
  },
  {
   "cell_type": "markdown",
   "metadata": {},
   "source": [
    "#### Exercise 7 [optional]: efficient bootstrap sampling <a id=\"eff_bootstrap_sampling\"></a>"
   ]
  },
  {
   "cell_type": "markdown",
   "metadata": {},
   "source": [
    "**Ex**: (come back and do this later if you're interested) \n",
    "\n",
    "* The above is a simple and understandable, but inefficient way of bootstrapping in Python. For one, we're making 5000 different calls to `np.random.choice` via `bootstrap_sample` for each new bootstrap sample.\n",
    "* If you like, write a new function `bootstrap_samples(arr, n_samples)` which only makes one call to `np.random.choice` and `np.mean` whilst still returning `n_samples` different bootstrap replicates of the mean of `arr`. \n",
    "* Use the `%%time` cell magic command to compare how much faster this function is as opposed to what we've implemented above.\n",
    "* Can you use `np.apply_along_axis` to generalise this to a fast function which returns `n_samples` bootstrap replicates of an arbitrary statistic `f` when applied to `arr`?"
   ]
  },
  {
   "cell_type": "code",
   "execution_count": null,
   "metadata": {},
   "outputs": [],
   "source": [
    "def bootstrap_samples(arr, n):\n",
    "    \"\"\"\n",
    "    Returns n bootstrap samples of arr, each created by sampling\n",
    "    from arr n times with replacement.\n",
    "    \"\"\"\n",
    "    # your code here"
   ]
  },
  {
   "cell_type": "code",
   "execution_count": null,
   "metadata": {},
   "outputs": [],
   "source": [
    "def bootstrap_replicates(f, arr, n):\n",
    "    \"\"\"\n",
    "    Returns n bootstrap replicates of the statistic f applied\n",
    "    to arr.\n",
    "    \"\"\"\n",
    "    # your code here"
   ]
  },
  {
   "cell_type": "markdown",
   "metadata": {},
   "source": [
    "### 4.2. Bootstrap Standard Errors <a id=\"4.2\"></a>"
   ]
  },
  {
   "cell_type": "code",
   "execution_count": null,
   "metadata": {},
   "outputs": [],
   "source": [
    "# Let's see what your bootstrap sampling distribution looks like\n",
    "pd.Series(b_strapped).plot(kind=\"hist\", bins=\"fd\", density=True);"
   ]
  },
  {
   "cell_type": "markdown",
   "metadata": {},
   "source": [
    "#### Exercise 8: bootstrapping to obtain standard errors  <a id=\"bootstrap_se\"></a>"
   ]
  },
  {
   "cell_type": "markdown",
   "metadata": {},
   "source": [
    "**Ex**: What is the standard deviation of your bootstrap samples of the mean? How does this compare to the asymptotic formula $\\frac{\\overline{\\sigma}}{\\sqrt{N}}$, where $\\overline{\\sigma}$ is the standard deviation of `df['duration']`?"
   ]
  },
  {
   "cell_type": "code",
   "execution_count": null,
   "metadata": {},
   "outputs": [],
   "source": [
    "# your code here"
   ]
  },
  {
   "cell_type": "markdown",
   "metadata": {},
   "source": [
    "**Ex**: Now use `bootstrap_sample` in the same way to generate `5_000` bootstrap samples from `sample` in order to estimate the sampling distribution of `np.median(sample)` and `trimmed_mean(sample)`. What are the standard deviations of these samples, and how do they compare to the estimates and true values (obtained via repeated sampling from `df['duration']`) that you observed earlier?"
   ]
  },
  {
   "cell_type": "code",
   "execution_count": null,
   "metadata": {},
   "outputs": [],
   "source": [
    "# your code here"
   ]
  },
  {
   "cell_type": "markdown",
   "metadata": {},
   "source": [
    "# 5. Parametric bootstrapping <a id=\"5\"></a>"
   ]
  },
  {
   "cell_type": "markdown",
   "metadata": {},
   "source": [
    "#### Exercise 9 [optional]: parametric bootstrapping <a id=\"parametric_bootstrapping\"></a>"
   ]
  },
  {
   "cell_type": "markdown",
   "metadata": {},
   "source": [
    "* An alternative approach that we haven't explored here is to fit a parametric distribution to our data, and to then draw many samples from this fitted distribution in order to estimate the sampling distribution of statistics of interest. A downside here is that you have to have an idea of a reasonable parametric distribution to fit!\n",
    "\n",
    "* A reasonable choice for `df['duration']` might be a lognormal distribution."
   ]
  },
  {
   "cell_type": "markdown",
   "metadata": {},
   "source": [
    "**Ex**: Fit a lognormal distribution to `sample` via maximum likelihood estimation, and use this to compute parametric bootstrap estimates for the statistics that we've considered so far. How do the results compare to your work above?"
   ]
  },
  {
   "cell_type": "code",
   "execution_count": null,
   "metadata": {},
   "outputs": [],
   "source": [
    "# your code here"
   ]
  }
 ],
 "metadata": {
  "kernelspec": {
   "display_name": "Python [default]",
   "language": "python",
   "name": "python3"
  },
  "language_info": {
   "codemirror_mode": {
    "name": "ipython",
    "version": 3
   },
   "file_extension": ".py",
   "mimetype": "text/x-python",
   "name": "python",
   "nbconvert_exporter": "python",
   "pygments_lexer": "ipython3",
   "version": "3.6.10"
  }
 },
 "nbformat": 4,
 "nbformat_minor": 4
}
