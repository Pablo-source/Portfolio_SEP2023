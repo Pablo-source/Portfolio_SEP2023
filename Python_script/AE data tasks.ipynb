{
 "cells": [
  {
   "cell_type": "code",
   "execution_count": 105,
   "metadata": {},
   "outputs": [],
   "source": [
    "# Load required libraries"
   ]
  },
  {
   "cell_type": "code",
   "execution_count": 106,
   "metadata": {},
   "outputs": [],
   "source": [
    "import numpy as np\n",
    "import pandas as pd\n",
    "import matplotlib.pyplot as plt\n",
    "%matplotlib inline\n"
   ]
  },
  {
   "cell_type": "markdown",
   "metadata": {},
   "source": [
    "## Task 1 - Data treatment and exploration"
   ]
  },
  {
   "cell_type": "markdown",
   "metadata": {},
   "source": [
    "### 1. Load AE dataset"
   ]
  },
  {
   "cell_type": "markdown",
   "metadata": {},
   "source": [
    "### Load dataset \"cleaned_AE_data.csv\""
   ]
  },
  {
   "cell_type": "code",
   "execution_count": 71,
   "metadata": {
    "scrolled": true
   },
   "outputs": [],
   "source": [
    "AEdata = pd.read_csv(\"cleaned_AE_data.csv\")"
   ]
  },
  {
   "cell_type": "code",
   "execution_count": 72,
   "metadata": {},
   "outputs": [
    {
     "data": {
      "text/html": [
       "<div>\n",
       "<style scoped>\n",
       "    .dataframe tbody tr th:only-of-type {\n",
       "        vertical-align: middle;\n",
       "    }\n",
       "\n",
       "    .dataframe tbody tr th {\n",
       "        vertical-align: top;\n",
       "    }\n",
       "\n",
       "    .dataframe thead th {\n",
       "        text-align: right;\n",
       "    }\n",
       "</style>\n",
       "<table border=\"1\" class=\"dataframe\">\n",
       "  <thead>\n",
       "    <tr style=\"text-align: right;\">\n",
       "      <th></th>\n",
       "      <th>Period</th>\n",
       "      <th>Type 1 Departments - Major A&amp;E</th>\n",
       "      <th>Type 2 Departments - Single Specialty</th>\n",
       "      <th>Type 3 Departments - Other A&amp;E/Minor Injury Unit</th>\n",
       "      <th>Total Attendances</th>\n",
       "      <th>Emergency Admissions via Type 1 A&amp;E</th>\n",
       "      <th>Emergency Admissions via Type 2 A&amp;E</th>\n",
       "      <th>Emergency Admissions via Type 3 and 4 A&amp;E</th>\n",
       "      <th>Total Emergency Admissions via A&amp;E</th>\n",
       "      <th>Other Emergency Admissions (i.e not via A&amp;E)</th>\n",
       "      <th>Total Emergency Admissions</th>\n",
       "      <th>Number of patients spending &gt;4 hours from decision to admit to admission</th>\n",
       "      <th>Number of patients spending &gt;12 hours from decision to admit to admission</th>\n",
       "    </tr>\n",
       "  </thead>\n",
       "  <tbody>\n",
       "    <tr>\n",
       "      <th>0</th>\n",
       "      <td>2010-08-01</td>\n",
       "      <td>1.138652e+06</td>\n",
       "      <td>54371.000000</td>\n",
       "      <td>559358.000000</td>\n",
       "      <td>1.752381e+06</td>\n",
       "      <td>287438.000000</td>\n",
       "      <td>5367.000000</td>\n",
       "      <td>8081.000000</td>\n",
       "      <td>300886.000000</td>\n",
       "      <td>124816.000000</td>\n",
       "      <td>425702.000000</td>\n",
       "      <td>3697.000000</td>\n",
       "      <td>1.0</td>\n",
       "    </tr>\n",
       "    <tr>\n",
       "      <th>1</th>\n",
       "      <td>2010-09-01</td>\n",
       "      <td>1.150728e+06</td>\n",
       "      <td>55181.000000</td>\n",
       "      <td>550359.000000</td>\n",
       "      <td>1.756268e+06</td>\n",
       "      <td>293991.000000</td>\n",
       "      <td>5543.000000</td>\n",
       "      <td>3673.000000</td>\n",
       "      <td>303207.000000</td>\n",
       "      <td>121693.000000</td>\n",
       "      <td>424900.000000</td>\n",
       "      <td>5907.000000</td>\n",
       "      <td>0.0</td>\n",
       "    </tr>\n",
       "    <tr>\n",
       "      <th>2</th>\n",
       "      <td>2010-10-01</td>\n",
       "      <td>1.163143e+06</td>\n",
       "      <td>54961.000000</td>\n",
       "      <td>583244.000000</td>\n",
       "      <td>1.801348e+06</td>\n",
       "      <td>303452.000000</td>\n",
       "      <td>5485.000000</td>\n",
       "      <td>2560.000000</td>\n",
       "      <td>311497.000000</td>\n",
       "      <td>124718.000000</td>\n",
       "      <td>436215.000000</td>\n",
       "      <td>6932.000000</td>\n",
       "      <td>0.0</td>\n",
       "    </tr>\n",
       "    <tr>\n",
       "      <th>3</th>\n",
       "      <td>2010-11-01</td>\n",
       "      <td>1.111295e+06</td>\n",
       "      <td>53727.428571</td>\n",
       "      <td>486005.428571</td>\n",
       "      <td>1.651027e+06</td>\n",
       "      <td>297832.000000</td>\n",
       "      <td>5731.142857</td>\n",
       "      <td>3279.000000</td>\n",
       "      <td>306842.142857</td>\n",
       "      <td>122256.857143</td>\n",
       "      <td>429099.000000</td>\n",
       "      <td>7179.000000</td>\n",
       "      <td>2.0</td>\n",
       "    </tr>\n",
       "    <tr>\n",
       "      <th>4</th>\n",
       "      <td>2010-12-01</td>\n",
       "      <td>1.159204e+06</td>\n",
       "      <td>45536.428571</td>\n",
       "      <td>533000.857143</td>\n",
       "      <td>1.737741e+06</td>\n",
       "      <td>318602.428571</td>\n",
       "      <td>6277.000000</td>\n",
       "      <td>3198.428571</td>\n",
       "      <td>328077.857143</td>\n",
       "      <td>124650.857143</td>\n",
       "      <td>452728.714286</td>\n",
       "      <td>13818.142857</td>\n",
       "      <td>15.0</td>\n",
       "    </tr>\n",
       "  </tbody>\n",
       "</table>\n",
       "</div>"
      ],
      "text/plain": [
       "       Period  Type 1 Departments - Major A&E  \\\n",
       "0  2010-08-01                    1.138652e+06   \n",
       "1  2010-09-01                    1.150728e+06   \n",
       "2  2010-10-01                    1.163143e+06   \n",
       "3  2010-11-01                    1.111295e+06   \n",
       "4  2010-12-01                    1.159204e+06   \n",
       "\n",
       "   Type 2 Departments - Single Specialty  \\\n",
       "0                           54371.000000   \n",
       "1                           55181.000000   \n",
       "2                           54961.000000   \n",
       "3                           53727.428571   \n",
       "4                           45536.428571   \n",
       "\n",
       "   Type 3 Departments - Other A&E/Minor Injury Unit  Total Attendances  \\\n",
       "0                                     559358.000000       1.752381e+06   \n",
       "1                                     550359.000000       1.756268e+06   \n",
       "2                                     583244.000000       1.801348e+06   \n",
       "3                                     486005.428571       1.651027e+06   \n",
       "4                                     533000.857143       1.737741e+06   \n",
       "\n",
       "   Emergency Admissions via Type 1 A&E  Emergency Admissions via Type 2 A&E  \\\n",
       "0                        287438.000000                          5367.000000   \n",
       "1                        293991.000000                          5543.000000   \n",
       "2                        303452.000000                          5485.000000   \n",
       "3                        297832.000000                          5731.142857   \n",
       "4                        318602.428571                          6277.000000   \n",
       "\n",
       "   Emergency Admissions via Type 3 and 4 A&E  \\\n",
       "0                                8081.000000   \n",
       "1                                3673.000000   \n",
       "2                                2560.000000   \n",
       "3                                3279.000000   \n",
       "4                                3198.428571   \n",
       "\n",
       "   Total Emergency Admissions via A&E  \\\n",
       "0                       300886.000000   \n",
       "1                       303207.000000   \n",
       "2                       311497.000000   \n",
       "3                       306842.142857   \n",
       "4                       328077.857143   \n",
       "\n",
       "   Other Emergency Admissions (i.e not via A&E)  Total Emergency Admissions  \\\n",
       "0                                 124816.000000               425702.000000   \n",
       "1                                 121693.000000               424900.000000   \n",
       "2                                 124718.000000               436215.000000   \n",
       "3                                 122256.857143               429099.000000   \n",
       "4                                 124650.857143               452728.714286   \n",
       "\n",
       "   Number of patients spending >4 hours from decision to admit to admission  \\\n",
       "0                                        3697.000000                          \n",
       "1                                        5907.000000                          \n",
       "2                                        6932.000000                          \n",
       "3                                        7179.000000                          \n",
       "4                                       13818.142857                          \n",
       "\n",
       "   Number of patients spending >12 hours from decision to admit to admission  \n",
       "0                                                1.0                          \n",
       "1                                                0.0                          \n",
       "2                                                0.0                          \n",
       "3                                                2.0                          \n",
       "4                                               15.0                          "
      ]
     },
     "execution_count": 72,
     "metadata": {},
     "output_type": "execute_result"
    }
   ],
   "source": [
    "AEdata.head()"
   ]
  },
  {
   "cell_type": "markdown",
   "metadata": {},
   "source": [
    "### 2. Make time information column into a datetime format"
   ]
  },
  {
   "cell_type": "code",
   "execution_count": 73,
   "metadata": {
    "scrolled": true
   },
   "outputs": [],
   "source": [
    "AEdata['Period'] = pd.to_datetime(AEdata['Period'])"
   ]
  },
  {
   "cell_type": "code",
   "execution_count": 74,
   "metadata": {
    "scrolled": true
   },
   "outputs": [
    {
     "data": {
      "text/html": [
       "<div>\n",
       "<style scoped>\n",
       "    .dataframe tbody tr th:only-of-type {\n",
       "        vertical-align: middle;\n",
       "    }\n",
       "\n",
       "    .dataframe tbody tr th {\n",
       "        vertical-align: top;\n",
       "    }\n",
       "\n",
       "    .dataframe thead th {\n",
       "        text-align: right;\n",
       "    }\n",
       "</style>\n",
       "<table border=\"1\" class=\"dataframe\">\n",
       "  <thead>\n",
       "    <tr style=\"text-align: right;\">\n",
       "      <th></th>\n",
       "      <th>Period</th>\n",
       "      <th>Type 1 Departments - Major A&amp;E</th>\n",
       "      <th>Type 2 Departments - Single Specialty</th>\n",
       "      <th>Type 3 Departments - Other A&amp;E/Minor Injury Unit</th>\n",
       "      <th>Total Attendances</th>\n",
       "      <th>Emergency Admissions via Type 1 A&amp;E</th>\n",
       "      <th>Emergency Admissions via Type 2 A&amp;E</th>\n",
       "      <th>Emergency Admissions via Type 3 and 4 A&amp;E</th>\n",
       "      <th>Total Emergency Admissions via A&amp;E</th>\n",
       "      <th>Other Emergency Admissions (i.e not via A&amp;E)</th>\n",
       "      <th>Total Emergency Admissions</th>\n",
       "      <th>Number of patients spending &gt;4 hours from decision to admit to admission</th>\n",
       "      <th>Number of patients spending &gt;12 hours from decision to admit to admission</th>\n",
       "    </tr>\n",
       "  </thead>\n",
       "  <tbody>\n",
       "    <tr>\n",
       "      <th>0</th>\n",
       "      <td>2010-08-01</td>\n",
       "      <td>1.138652e+06</td>\n",
       "      <td>54371.000000</td>\n",
       "      <td>559358.000000</td>\n",
       "      <td>1.752381e+06</td>\n",
       "      <td>287438.000000</td>\n",
       "      <td>5367.000000</td>\n",
       "      <td>8081.000000</td>\n",
       "      <td>300886.000000</td>\n",
       "      <td>124816.000000</td>\n",
       "      <td>425702.000000</td>\n",
       "      <td>3697.000000</td>\n",
       "      <td>1.0</td>\n",
       "    </tr>\n",
       "    <tr>\n",
       "      <th>1</th>\n",
       "      <td>2010-09-01</td>\n",
       "      <td>1.150728e+06</td>\n",
       "      <td>55181.000000</td>\n",
       "      <td>550359.000000</td>\n",
       "      <td>1.756268e+06</td>\n",
       "      <td>293991.000000</td>\n",
       "      <td>5543.000000</td>\n",
       "      <td>3673.000000</td>\n",
       "      <td>303207.000000</td>\n",
       "      <td>121693.000000</td>\n",
       "      <td>424900.000000</td>\n",
       "      <td>5907.000000</td>\n",
       "      <td>0.0</td>\n",
       "    </tr>\n",
       "    <tr>\n",
       "      <th>2</th>\n",
       "      <td>2010-10-01</td>\n",
       "      <td>1.163143e+06</td>\n",
       "      <td>54961.000000</td>\n",
       "      <td>583244.000000</td>\n",
       "      <td>1.801348e+06</td>\n",
       "      <td>303452.000000</td>\n",
       "      <td>5485.000000</td>\n",
       "      <td>2560.000000</td>\n",
       "      <td>311497.000000</td>\n",
       "      <td>124718.000000</td>\n",
       "      <td>436215.000000</td>\n",
       "      <td>6932.000000</td>\n",
       "      <td>0.0</td>\n",
       "    </tr>\n",
       "    <tr>\n",
       "      <th>3</th>\n",
       "      <td>2010-11-01</td>\n",
       "      <td>1.111295e+06</td>\n",
       "      <td>53727.428571</td>\n",
       "      <td>486005.428571</td>\n",
       "      <td>1.651027e+06</td>\n",
       "      <td>297832.000000</td>\n",
       "      <td>5731.142857</td>\n",
       "      <td>3279.000000</td>\n",
       "      <td>306842.142857</td>\n",
       "      <td>122256.857143</td>\n",
       "      <td>429099.000000</td>\n",
       "      <td>7179.000000</td>\n",
       "      <td>2.0</td>\n",
       "    </tr>\n",
       "    <tr>\n",
       "      <th>4</th>\n",
       "      <td>2010-12-01</td>\n",
       "      <td>1.159204e+06</td>\n",
       "      <td>45536.428571</td>\n",
       "      <td>533000.857143</td>\n",
       "      <td>1.737741e+06</td>\n",
       "      <td>318602.428571</td>\n",
       "      <td>6277.000000</td>\n",
       "      <td>3198.428571</td>\n",
       "      <td>328077.857143</td>\n",
       "      <td>124650.857143</td>\n",
       "      <td>452728.714286</td>\n",
       "      <td>13818.142857</td>\n",
       "      <td>15.0</td>\n",
       "    </tr>\n",
       "  </tbody>\n",
       "</table>\n",
       "</div>"
      ],
      "text/plain": [
       "      Period  Type 1 Departments - Major A&E  \\\n",
       "0 2010-08-01                    1.138652e+06   \n",
       "1 2010-09-01                    1.150728e+06   \n",
       "2 2010-10-01                    1.163143e+06   \n",
       "3 2010-11-01                    1.111295e+06   \n",
       "4 2010-12-01                    1.159204e+06   \n",
       "\n",
       "   Type 2 Departments - Single Specialty  \\\n",
       "0                           54371.000000   \n",
       "1                           55181.000000   \n",
       "2                           54961.000000   \n",
       "3                           53727.428571   \n",
       "4                           45536.428571   \n",
       "\n",
       "   Type 3 Departments - Other A&E/Minor Injury Unit  Total Attendances  \\\n",
       "0                                     559358.000000       1.752381e+06   \n",
       "1                                     550359.000000       1.756268e+06   \n",
       "2                                     583244.000000       1.801348e+06   \n",
       "3                                     486005.428571       1.651027e+06   \n",
       "4                                     533000.857143       1.737741e+06   \n",
       "\n",
       "   Emergency Admissions via Type 1 A&E  Emergency Admissions via Type 2 A&E  \\\n",
       "0                        287438.000000                          5367.000000   \n",
       "1                        293991.000000                          5543.000000   \n",
       "2                        303452.000000                          5485.000000   \n",
       "3                        297832.000000                          5731.142857   \n",
       "4                        318602.428571                          6277.000000   \n",
       "\n",
       "   Emergency Admissions via Type 3 and 4 A&E  \\\n",
       "0                                8081.000000   \n",
       "1                                3673.000000   \n",
       "2                                2560.000000   \n",
       "3                                3279.000000   \n",
       "4                                3198.428571   \n",
       "\n",
       "   Total Emergency Admissions via A&E  \\\n",
       "0                       300886.000000   \n",
       "1                       303207.000000   \n",
       "2                       311497.000000   \n",
       "3                       306842.142857   \n",
       "4                       328077.857143   \n",
       "\n",
       "   Other Emergency Admissions (i.e not via A&E)  Total Emergency Admissions  \\\n",
       "0                                 124816.000000               425702.000000   \n",
       "1                                 121693.000000               424900.000000   \n",
       "2                                 124718.000000               436215.000000   \n",
       "3                                 122256.857143               429099.000000   \n",
       "4                                 124650.857143               452728.714286   \n",
       "\n",
       "   Number of patients spending >4 hours from decision to admit to admission  \\\n",
       "0                                        3697.000000                          \n",
       "1                                        5907.000000                          \n",
       "2                                        6932.000000                          \n",
       "3                                        7179.000000                          \n",
       "4                                       13818.142857                          \n",
       "\n",
       "   Number of patients spending >12 hours from decision to admit to admission  \n",
       "0                                                1.0                          \n",
       "1                                                0.0                          \n",
       "2                                                0.0                          \n",
       "3                                                2.0                          \n",
       "4                                               15.0                          "
      ]
     },
     "execution_count": 74,
     "metadata": {},
     "output_type": "execute_result"
    }
   ],
   "source": [
    "AEdata.head()"
   ]
  },
  {
   "cell_type": "markdown",
   "metadata": {},
   "source": [
    "### 3. Transform datetime information into the index instead"
   ]
  },
  {
   "cell_type": "code",
   "execution_count": 75,
   "metadata": {},
   "outputs": [],
   "source": [
    "AEdata = AEdata.set_index('Period')"
   ]
  },
  {
   "cell_type": "code",
   "execution_count": 76,
   "metadata": {},
   "outputs": [
    {
     "data": {
      "text/html": [
       "<div>\n",
       "<style scoped>\n",
       "    .dataframe tbody tr th:only-of-type {\n",
       "        vertical-align: middle;\n",
       "    }\n",
       "\n",
       "    .dataframe tbody tr th {\n",
       "        vertical-align: top;\n",
       "    }\n",
       "\n",
       "    .dataframe thead th {\n",
       "        text-align: right;\n",
       "    }\n",
       "</style>\n",
       "<table border=\"1\" class=\"dataframe\">\n",
       "  <thead>\n",
       "    <tr style=\"text-align: right;\">\n",
       "      <th></th>\n",
       "      <th>Type 1 Departments - Major A&amp;E</th>\n",
       "      <th>Type 2 Departments - Single Specialty</th>\n",
       "      <th>Type 3 Departments - Other A&amp;E/Minor Injury Unit</th>\n",
       "      <th>Total Attendances</th>\n",
       "      <th>Emergency Admissions via Type 1 A&amp;E</th>\n",
       "      <th>Emergency Admissions via Type 2 A&amp;E</th>\n",
       "      <th>Emergency Admissions via Type 3 and 4 A&amp;E</th>\n",
       "      <th>Total Emergency Admissions via A&amp;E</th>\n",
       "      <th>Other Emergency Admissions (i.e not via A&amp;E)</th>\n",
       "      <th>Total Emergency Admissions</th>\n",
       "      <th>Number of patients spending &gt;4 hours from decision to admit to admission</th>\n",
       "      <th>Number of patients spending &gt;12 hours from decision to admit to admission</th>\n",
       "    </tr>\n",
       "    <tr>\n",
       "      <th>Period</th>\n",
       "      <th></th>\n",
       "      <th></th>\n",
       "      <th></th>\n",
       "      <th></th>\n",
       "      <th></th>\n",
       "      <th></th>\n",
       "      <th></th>\n",
       "      <th></th>\n",
       "      <th></th>\n",
       "      <th></th>\n",
       "      <th></th>\n",
       "      <th></th>\n",
       "    </tr>\n",
       "  </thead>\n",
       "  <tbody>\n",
       "    <tr>\n",
       "      <th>2010-08-01</th>\n",
       "      <td>1.138652e+06</td>\n",
       "      <td>54371.000000</td>\n",
       "      <td>559358.000000</td>\n",
       "      <td>1.752381e+06</td>\n",
       "      <td>287438.000000</td>\n",
       "      <td>5367.000000</td>\n",
       "      <td>8081.000000</td>\n",
       "      <td>300886.000000</td>\n",
       "      <td>124816.000000</td>\n",
       "      <td>425702.000000</td>\n",
       "      <td>3697.000000</td>\n",
       "      <td>1.0</td>\n",
       "    </tr>\n",
       "    <tr>\n",
       "      <th>2010-09-01</th>\n",
       "      <td>1.150728e+06</td>\n",
       "      <td>55181.000000</td>\n",
       "      <td>550359.000000</td>\n",
       "      <td>1.756268e+06</td>\n",
       "      <td>293991.000000</td>\n",
       "      <td>5543.000000</td>\n",
       "      <td>3673.000000</td>\n",
       "      <td>303207.000000</td>\n",
       "      <td>121693.000000</td>\n",
       "      <td>424900.000000</td>\n",
       "      <td>5907.000000</td>\n",
       "      <td>0.0</td>\n",
       "    </tr>\n",
       "    <tr>\n",
       "      <th>2010-10-01</th>\n",
       "      <td>1.163143e+06</td>\n",
       "      <td>54961.000000</td>\n",
       "      <td>583244.000000</td>\n",
       "      <td>1.801348e+06</td>\n",
       "      <td>303452.000000</td>\n",
       "      <td>5485.000000</td>\n",
       "      <td>2560.000000</td>\n",
       "      <td>311497.000000</td>\n",
       "      <td>124718.000000</td>\n",
       "      <td>436215.000000</td>\n",
       "      <td>6932.000000</td>\n",
       "      <td>0.0</td>\n",
       "    </tr>\n",
       "    <tr>\n",
       "      <th>2010-11-01</th>\n",
       "      <td>1.111295e+06</td>\n",
       "      <td>53727.428571</td>\n",
       "      <td>486005.428571</td>\n",
       "      <td>1.651027e+06</td>\n",
       "      <td>297832.000000</td>\n",
       "      <td>5731.142857</td>\n",
       "      <td>3279.000000</td>\n",
       "      <td>306842.142857</td>\n",
       "      <td>122256.857143</td>\n",
       "      <td>429099.000000</td>\n",
       "      <td>7179.000000</td>\n",
       "      <td>2.0</td>\n",
       "    </tr>\n",
       "    <tr>\n",
       "      <th>2010-12-01</th>\n",
       "      <td>1.159204e+06</td>\n",
       "      <td>45536.428571</td>\n",
       "      <td>533000.857143</td>\n",
       "      <td>1.737741e+06</td>\n",
       "      <td>318602.428571</td>\n",
       "      <td>6277.000000</td>\n",
       "      <td>3198.428571</td>\n",
       "      <td>328077.857143</td>\n",
       "      <td>124650.857143</td>\n",
       "      <td>452728.714286</td>\n",
       "      <td>13818.142857</td>\n",
       "      <td>15.0</td>\n",
       "    </tr>\n",
       "  </tbody>\n",
       "</table>\n",
       "</div>"
      ],
      "text/plain": [
       "            Type 1 Departments - Major A&E  \\\n",
       "Period                                       \n",
       "2010-08-01                    1.138652e+06   \n",
       "2010-09-01                    1.150728e+06   \n",
       "2010-10-01                    1.163143e+06   \n",
       "2010-11-01                    1.111295e+06   \n",
       "2010-12-01                    1.159204e+06   \n",
       "\n",
       "            Type 2 Departments - Single Specialty  \\\n",
       "Period                                              \n",
       "2010-08-01                           54371.000000   \n",
       "2010-09-01                           55181.000000   \n",
       "2010-10-01                           54961.000000   \n",
       "2010-11-01                           53727.428571   \n",
       "2010-12-01                           45536.428571   \n",
       "\n",
       "            Type 3 Departments - Other A&E/Minor Injury Unit  \\\n",
       "Period                                                         \n",
       "2010-08-01                                     559358.000000   \n",
       "2010-09-01                                     550359.000000   \n",
       "2010-10-01                                     583244.000000   \n",
       "2010-11-01                                     486005.428571   \n",
       "2010-12-01                                     533000.857143   \n",
       "\n",
       "            Total Attendances  Emergency Admissions via Type 1 A&E  \\\n",
       "Period                                                               \n",
       "2010-08-01       1.752381e+06                        287438.000000   \n",
       "2010-09-01       1.756268e+06                        293991.000000   \n",
       "2010-10-01       1.801348e+06                        303452.000000   \n",
       "2010-11-01       1.651027e+06                        297832.000000   \n",
       "2010-12-01       1.737741e+06                        318602.428571   \n",
       "\n",
       "            Emergency Admissions via Type 2 A&E  \\\n",
       "Period                                            \n",
       "2010-08-01                          5367.000000   \n",
       "2010-09-01                          5543.000000   \n",
       "2010-10-01                          5485.000000   \n",
       "2010-11-01                          5731.142857   \n",
       "2010-12-01                          6277.000000   \n",
       "\n",
       "            Emergency Admissions via Type 3 and 4 A&E  \\\n",
       "Period                                                  \n",
       "2010-08-01                                8081.000000   \n",
       "2010-09-01                                3673.000000   \n",
       "2010-10-01                                2560.000000   \n",
       "2010-11-01                                3279.000000   \n",
       "2010-12-01                                3198.428571   \n",
       "\n",
       "            Total Emergency Admissions via A&E  \\\n",
       "Period                                           \n",
       "2010-08-01                       300886.000000   \n",
       "2010-09-01                       303207.000000   \n",
       "2010-10-01                       311497.000000   \n",
       "2010-11-01                       306842.142857   \n",
       "2010-12-01                       328077.857143   \n",
       "\n",
       "            Other Emergency Admissions (i.e not via A&E)  \\\n",
       "Period                                                     \n",
       "2010-08-01                                 124816.000000   \n",
       "2010-09-01                                 121693.000000   \n",
       "2010-10-01                                 124718.000000   \n",
       "2010-11-01                                 122256.857143   \n",
       "2010-12-01                                 124650.857143   \n",
       "\n",
       "            Total Emergency Admissions  \\\n",
       "Period                                   \n",
       "2010-08-01               425702.000000   \n",
       "2010-09-01               424900.000000   \n",
       "2010-10-01               436215.000000   \n",
       "2010-11-01               429099.000000   \n",
       "2010-12-01               452728.714286   \n",
       "\n",
       "            Number of patients spending >4 hours from decision to admit to admission  \\\n",
       "Period                                                                                 \n",
       "2010-08-01                                        3697.000000                          \n",
       "2010-09-01                                        5907.000000                          \n",
       "2010-10-01                                        6932.000000                          \n",
       "2010-11-01                                        7179.000000                          \n",
       "2010-12-01                                       13818.142857                          \n",
       "\n",
       "            Number of patients spending >12 hours from decision to admit to admission  \n",
       "Period                                                                                 \n",
       "2010-08-01                                                1.0                          \n",
       "2010-09-01                                                0.0                          \n",
       "2010-10-01                                                0.0                          \n",
       "2010-11-01                                                2.0                          \n",
       "2010-12-01                                               15.0                          "
      ]
     },
     "execution_count": 76,
     "metadata": {},
     "output_type": "execute_result"
    }
   ],
   "source": [
    "AEdata.head()"
   ]
  },
  {
   "cell_type": "code",
   "execution_count": 77,
   "metadata": {
    "scrolled": true
   },
   "outputs": [
    {
     "data": {
      "text/plain": [
       "Index(['Type 1 Departments - Major A&E',\n",
       "       'Type 2 Departments - Single Specialty',\n",
       "       'Type 3 Departments - Other A&E/Minor Injury Unit', 'Total Attendances',\n",
       "       'Emergency Admissions via Type 1 A&E',\n",
       "       'Emergency Admissions via Type 2 A&E',\n",
       "       'Emergency Admissions via Type 3 and 4 A&E',\n",
       "       'Total Emergency Admissions via A&E',\n",
       "       'Other Emergency Admissions (i.e not via A&E)',\n",
       "       'Total Emergency Admissions',\n",
       "       'Number of patients spending >4 hours from decision to admit to admission',\n",
       "       'Number of patients spending >12 hours from decision to admit to admission'],\n",
       "      dtype='object')"
      ]
     },
     "execution_count": 77,
     "metadata": {},
     "output_type": "execute_result"
    }
   ],
   "source": [
    "AEdata.columns"
   ]
  },
  {
   "cell_type": "markdown",
   "metadata": {},
   "source": [
    "### 4. I will choose to model total Emergency admissions. I choose this metric as it might be more stable for later modelling "
   ]
  },
  {
   "cell_type": "markdown",
   "metadata": {},
   "source": [
    "#### 4.1 Just in case I will rename also (Emegency Admissions)(Emergency Admissions via A&E)\n"
   ]
  },
  {
   "cell_type": "code",
   "execution_count": 78,
   "metadata": {},
   "outputs": [],
   "source": [
    "Emergency_admissions = AEdata['Total Emergency Admissions']"
   ]
  },
  {
   "cell_type": "code",
   "execution_count": 79,
   "metadata": {},
   "outputs": [],
   "source": [
    "AE_emergency_admissions = AEdata['Total Emergency Admissions via A&E']"
   ]
  },
  {
   "cell_type": "code",
   "execution_count": null,
   "metadata": {},
   "outputs": [],
   "source": [
    "# pd.Series()\n",
    "# AE_emergency_admissions.name='newname'"
   ]
  },
  {
   "cell_type": "code",
   "execution_count": 80,
   "metadata": {},
   "outputs": [
    {
     "data": {
      "text/plain": [
       "Period\n",
       "2010-08-01    425702.000000\n",
       "2010-09-01    424900.000000\n",
       "2010-10-01    436215.000000\n",
       "2010-11-01    429099.000000\n",
       "2010-12-01    452728.714286\n",
       "Name: Total Emergency Admissions, dtype: float64"
      ]
     },
     "execution_count": 80,
     "metadata": {},
     "output_type": "execute_result"
    }
   ],
   "source": [
    "Emergency_admissions.head()"
   ]
  },
  {
   "cell_type": "code",
   "execution_count": 81,
   "metadata": {},
   "outputs": [
    {
     "data": {
      "text/plain": [
       "120"
      ]
     },
     "execution_count": 81,
     "metadata": {},
     "output_type": "execute_result"
    }
   ],
   "source": [
    "len(Emergency_admissions)"
   ]
  },
  {
   "cell_type": "code",
   "execution_count": 82,
   "metadata": {
    "scrolled": true
   },
   "outputs": [
    {
     "data": {
      "text/plain": [
       "Period\n",
       "2010-08-01    300886.000000\n",
       "2010-09-01    303207.000000\n",
       "2010-10-01    311497.000000\n",
       "2010-11-01    306842.142857\n",
       "2010-12-01    328077.857143\n",
       "                  ...      \n",
       "2020-03-01    325833.000000\n",
       "2020-04-01    257928.000000\n",
       "2020-05-01    312719.000000\n",
       "2020-06-01    337709.000000\n",
       "2020-07-01    362770.000000\n",
       "Name: Total Emergency Admissions via A&E, Length: 120, dtype: float64"
      ]
     },
     "execution_count": 82,
     "metadata": {},
     "output_type": "execute_result"
    }
   ],
   "source": [
    "AE_emergency_admissions"
   ]
  },
  {
   "cell_type": "markdown",
   "metadata": {},
   "source": [
    "### 4. I will choose to model total Emergency admissions. I choose this metric as it might be more stable for later modelling "
   ]
  },
  {
   "cell_type": "markdown",
   "metadata": {},
   "source": [
    "### Task 1.2 Now create a holdout dataset, remember to keep this aside. We recommend using the last 30 points for the holdout."
   ]
  },
  {
   "cell_type": "markdown",
   "metadata": {},
   "source": [
    "# Total rows 120 \n",
    "# Train (70%, 84), Validation (20%, 24), Hold (10%, 12)"
   ]
  },
  {
   "cell_type": "code",
   "execution_count": 83,
   "metadata": {},
   "outputs": [],
   "source": [
    "\n",
    "# Training dataset  (70%)\n",
    "traindata = Emergency_admissions.iloc[0:64]"
   ]
  },
  {
   "cell_type": "code",
   "execution_count": 133,
   "metadata": {},
   "outputs": [
    {
     "data": {
      "text/plain": [
       "pandas.core.series.Series"
      ]
     },
     "execution_count": 133,
     "metadata": {},
     "output_type": "execute_result"
    }
   ],
   "source": [
    "type(traindata)"
   ]
  },
  {
   "cell_type": "code",
   "execution_count": 84,
   "metadata": {
    "scrolled": true
   },
   "outputs": [
    {
     "data": {
      "text/plain": [
       "Period\n",
       "2015-07-01    473914.0\n",
       "2015-08-01    455432.0\n",
       "2015-09-01    464195.0\n",
       "2015-10-01    479987.0\n",
       "2015-11-01    475564.0\n",
       "Name: Total Emergency Admissions, dtype: float64"
      ]
     },
     "execution_count": 84,
     "metadata": {},
     "output_type": "execute_result"
    }
   ],
   "source": [
    "traindata.tail()"
   ]
  },
  {
   "cell_type": "code",
   "execution_count": 85,
   "metadata": {},
   "outputs": [],
   "source": [
    "# Validation dataset (30%)\n",
    "valdata = Emergency_admissions.iloc[64:90]"
   ]
  },
  {
   "cell_type": "code",
   "execution_count": 86,
   "metadata": {},
   "outputs": [
    {
     "data": {
      "text/plain": [
       "Period\n",
       "2017-09-01    486799.0\n",
       "2017-10-01    513217.0\n",
       "2017-11-01    513019.0\n",
       "2017-12-01    520803.0\n",
       "2018-01-01    526045.0\n",
       "Name: Total Emergency Admissions, dtype: float64"
      ]
     },
     "execution_count": 86,
     "metadata": {},
     "output_type": "execute_result"
    }
   ],
   "source": [
    "valdata.tail()"
   ]
  },
  {
   "cell_type": "code",
   "execution_count": 416,
   "metadata": {},
   "outputs": [],
   "source": [
    "# Hold dataset\n",
    "hold = Emergency_admissions[90:110]"
   ]
  },
  {
   "cell_type": "code",
   "execution_count": 417,
   "metadata": {},
   "outputs": [
    {
     "data": {
      "text/plain": [
       "Period\n",
       "2019-05-01    547382.0\n",
       "2019-06-01    528801.0\n",
       "2019-07-01    554069.0\n",
       "2019-08-01    529231.0\n",
       "2019-09-01    529903.0\n",
       "Name: Total Emergency Admissions, dtype: float64"
      ]
     },
     "execution_count": 417,
     "metadata": {},
     "output_type": "execute_result"
    }
   ],
   "source": [
    "hold.tail()"
   ]
  },
  {
   "cell_type": "code",
   "execution_count": null,
   "metadata": {},
   "outputs": [],
   "source": []
  },
  {
   "cell_type": "code",
   "execution_count": 418,
   "metadata": {},
   "outputs": [
    {
     "data": {
      "text/plain": [
       "64"
      ]
     },
     "execution_count": 418,
     "metadata": {},
     "output_type": "execute_result"
    }
   ],
   "source": [
    "len(traindata)"
   ]
  },
  {
   "cell_type": "code",
   "execution_count": 419,
   "metadata": {},
   "outputs": [
    {
     "data": {
      "text/plain": [
       "26"
      ]
     },
     "execution_count": 419,
     "metadata": {},
     "output_type": "execute_result"
    }
   ],
   "source": [
    "len(valdata)"
   ]
  },
  {
   "cell_type": "code",
   "execution_count": 420,
   "metadata": {},
   "outputs": [
    {
     "data": {
      "text/plain": [
       "20"
      ]
     },
     "execution_count": 420,
     "metadata": {},
     "output_type": "execute_result"
    }
   ],
   "source": [
    "len(hold)"
   ]
  },
  {
   "cell_type": "code",
   "execution_count": 421,
   "metadata": {},
   "outputs": [
    {
     "data": {
      "text/plain": [
       "pandas.core.series.Series"
      ]
     },
     "execution_count": 421,
     "metadata": {},
     "output_type": "execute_result"
    }
   ],
   "source": [
    "type(traindata)"
   ]
  },
  {
   "cell_type": "code",
   "execution_count": 422,
   "metadata": {},
   "outputs": [
    {
     "data": {
      "text/plain": [
       "pandas.core.series.Series"
      ]
     },
     "execution_count": 422,
     "metadata": {},
     "output_type": "execute_result"
    }
   ],
   "source": [
    "type(valdata)"
   ]
  },
  {
   "cell_type": "code",
   "execution_count": 423,
   "metadata": {},
   "outputs": [
    {
     "data": {
      "text/plain": [
       "pandas.core.series.Series"
      ]
     },
     "execution_count": 423,
     "metadata": {},
     "output_type": "execute_result"
    }
   ],
   "source": [
    "type(hold)"
   ]
  },
  {
   "cell_type": "markdown",
   "metadata": {},
   "source": [
    "## Transform Series objects to dataframe objects "
   ]
  },
  {
   "cell_type": "markdown",
   "metadata": {},
   "source": [
    "### Change data type to integer"
   ]
  },
  {
   "cell_type": "code",
   "execution_count": 424,
   "metadata": {},
   "outputs": [],
   "source": [
    "traindataf = traindata.to_frame().apply(np.int64)\n",
    "# .astype(int)"
   ]
  },
  {
   "cell_type": "code",
   "execution_count": 425,
   "metadata": {},
   "outputs": [
    {
     "data": {
      "text/html": [
       "<div>\n",
       "<style scoped>\n",
       "    .dataframe tbody tr th:only-of-type {\n",
       "        vertical-align: middle;\n",
       "    }\n",
       "\n",
       "    .dataframe tbody tr th {\n",
       "        vertical-align: top;\n",
       "    }\n",
       "\n",
       "    .dataframe thead th {\n",
       "        text-align: right;\n",
       "    }\n",
       "</style>\n",
       "<table border=\"1\" class=\"dataframe\">\n",
       "  <thead>\n",
       "    <tr style=\"text-align: right;\">\n",
       "      <th></th>\n",
       "      <th>Total Emergency Admissions</th>\n",
       "    </tr>\n",
       "    <tr>\n",
       "      <th>Period</th>\n",
       "      <th></th>\n",
       "    </tr>\n",
       "  </thead>\n",
       "  <tbody>\n",
       "    <tr>\n",
       "      <th>2010-08-01</th>\n",
       "      <td>425702</td>\n",
       "    </tr>\n",
       "    <tr>\n",
       "      <th>2010-09-01</th>\n",
       "      <td>424900</td>\n",
       "    </tr>\n",
       "    <tr>\n",
       "      <th>2010-10-01</th>\n",
       "      <td>436215</td>\n",
       "    </tr>\n",
       "    <tr>\n",
       "      <th>2010-11-01</th>\n",
       "      <td>429099</td>\n",
       "    </tr>\n",
       "    <tr>\n",
       "      <th>2010-12-01</th>\n",
       "      <td>452728</td>\n",
       "    </tr>\n",
       "  </tbody>\n",
       "</table>\n",
       "</div>"
      ],
      "text/plain": [
       "            Total Emergency Admissions\n",
       "Period                                \n",
       "2010-08-01                      425702\n",
       "2010-09-01                      424900\n",
       "2010-10-01                      436215\n",
       "2010-11-01                      429099\n",
       "2010-12-01                      452728"
      ]
     },
     "execution_count": 425,
     "metadata": {},
     "output_type": "execute_result"
    }
   ],
   "source": [
    "traindataf.head()"
   ]
  },
  {
   "cell_type": "code",
   "execution_count": 426,
   "metadata": {
    "scrolled": false
   },
   "outputs": [
    {
     "data": {
      "text/html": [
       "<div>\n",
       "<style scoped>\n",
       "    .dataframe tbody tr th:only-of-type {\n",
       "        vertical-align: middle;\n",
       "    }\n",
       "\n",
       "    .dataframe tbody tr th {\n",
       "        vertical-align: top;\n",
       "    }\n",
       "\n",
       "    .dataframe thead th {\n",
       "        text-align: right;\n",
       "    }\n",
       "</style>\n",
       "<table border=\"1\" class=\"dataframe\">\n",
       "  <thead>\n",
       "    <tr style=\"text-align: right;\">\n",
       "      <th></th>\n",
       "      <th>Emadmissions</th>\n",
       "    </tr>\n",
       "    <tr>\n",
       "      <th>Period</th>\n",
       "      <th></th>\n",
       "    </tr>\n",
       "  </thead>\n",
       "  <tbody>\n",
       "    <tr>\n",
       "      <th>2010-08-01</th>\n",
       "      <td>425702</td>\n",
       "    </tr>\n",
       "    <tr>\n",
       "      <th>2010-09-01</th>\n",
       "      <td>424900</td>\n",
       "    </tr>\n",
       "    <tr>\n",
       "      <th>2010-10-01</th>\n",
       "      <td>436215</td>\n",
       "    </tr>\n",
       "    <tr>\n",
       "      <th>2010-11-01</th>\n",
       "      <td>429099</td>\n",
       "    </tr>\n",
       "    <tr>\n",
       "      <th>2010-12-01</th>\n",
       "      <td>452728</td>\n",
       "    </tr>\n",
       "    <tr>\n",
       "      <th>...</th>\n",
       "      <td>...</td>\n",
       "    </tr>\n",
       "    <tr>\n",
       "      <th>2015-07-01</th>\n",
       "      <td>473914</td>\n",
       "    </tr>\n",
       "    <tr>\n",
       "      <th>2015-08-01</th>\n",
       "      <td>455432</td>\n",
       "    </tr>\n",
       "    <tr>\n",
       "      <th>2015-09-01</th>\n",
       "      <td>464195</td>\n",
       "    </tr>\n",
       "    <tr>\n",
       "      <th>2015-10-01</th>\n",
       "      <td>479987</td>\n",
       "    </tr>\n",
       "    <tr>\n",
       "      <th>2015-11-01</th>\n",
       "      <td>475564</td>\n",
       "    </tr>\n",
       "  </tbody>\n",
       "</table>\n",
       "<p>64 rows × 1 columns</p>\n",
       "</div>"
      ],
      "text/plain": [
       "            Emadmissions\n",
       "Period                  \n",
       "2010-08-01        425702\n",
       "2010-09-01        424900\n",
       "2010-10-01        436215\n",
       "2010-11-01        429099\n",
       "2010-12-01        452728\n",
       "...                  ...\n",
       "2015-07-01        473914\n",
       "2015-08-01        455432\n",
       "2015-09-01        464195\n",
       "2015-10-01        479987\n",
       "2015-11-01        475564\n",
       "\n",
       "[64 rows x 1 columns]"
      ]
     },
     "execution_count": 426,
     "metadata": {},
     "output_type": "execute_result"
    }
   ],
   "source": [
    "# Renmae variable now as a dataframe\n",
    "traindataf.rename(columns={'Total Emergency Admissions':'Emadmissions'})"
   ]
  },
  {
   "cell_type": "code",
   "execution_count": 427,
   "metadata": {},
   "outputs": [
    {
     "data": {
      "text/html": [
       "<div>\n",
       "<style scoped>\n",
       "    .dataframe tbody tr th:only-of-type {\n",
       "        vertical-align: middle;\n",
       "    }\n",
       "\n",
       "    .dataframe tbody tr th {\n",
       "        vertical-align: top;\n",
       "    }\n",
       "\n",
       "    .dataframe thead th {\n",
       "        text-align: right;\n",
       "    }\n",
       "</style>\n",
       "<table border=\"1\" class=\"dataframe\">\n",
       "  <thead>\n",
       "    <tr style=\"text-align: right;\">\n",
       "      <th></th>\n",
       "      <th>Total Emergency Admissions</th>\n",
       "    </tr>\n",
       "    <tr>\n",
       "      <th>Period</th>\n",
       "      <th></th>\n",
       "    </tr>\n",
       "  </thead>\n",
       "  <tbody>\n",
       "    <tr>\n",
       "      <th>2010-08-01</th>\n",
       "      <td>425702</td>\n",
       "    </tr>\n",
       "    <tr>\n",
       "      <th>2010-09-01</th>\n",
       "      <td>424900</td>\n",
       "    </tr>\n",
       "    <tr>\n",
       "      <th>2010-10-01</th>\n",
       "      <td>436215</td>\n",
       "    </tr>\n",
       "    <tr>\n",
       "      <th>2010-11-01</th>\n",
       "      <td>429099</td>\n",
       "    </tr>\n",
       "    <tr>\n",
       "      <th>2010-12-01</th>\n",
       "      <td>452728</td>\n",
       "    </tr>\n",
       "  </tbody>\n",
       "</table>\n",
       "</div>"
      ],
      "text/plain": [
       "            Total Emergency Admissions\n",
       "Period                                \n",
       "2010-08-01                      425702\n",
       "2010-09-01                      424900\n",
       "2010-10-01                      436215\n",
       "2010-11-01                      429099\n",
       "2010-12-01                      452728"
      ]
     },
     "execution_count": 427,
     "metadata": {},
     "output_type": "execute_result"
    }
   ],
   "source": [
    "traindataf.head()"
   ]
  },
  {
   "cell_type": "code",
   "execution_count": 428,
   "metadata": {},
   "outputs": [],
   "source": [
    "valdataf = valdata.to_frame().apply(np.int64)"
   ]
  },
  {
   "cell_type": "code",
   "execution_count": 429,
   "metadata": {},
   "outputs": [
    {
     "data": {
      "text/html": [
       "<div>\n",
       "<style scoped>\n",
       "    .dataframe tbody tr th:only-of-type {\n",
       "        vertical-align: middle;\n",
       "    }\n",
       "\n",
       "    .dataframe tbody tr th {\n",
       "        vertical-align: top;\n",
       "    }\n",
       "\n",
       "    .dataframe thead th {\n",
       "        text-align: right;\n",
       "    }\n",
       "</style>\n",
       "<table border=\"1\" class=\"dataframe\">\n",
       "  <thead>\n",
       "    <tr style=\"text-align: right;\">\n",
       "      <th></th>\n",
       "      <th>Emadmissions</th>\n",
       "    </tr>\n",
       "    <tr>\n",
       "      <th>Period</th>\n",
       "      <th></th>\n",
       "    </tr>\n",
       "  </thead>\n",
       "  <tbody>\n",
       "    <tr>\n",
       "      <th>2015-12-01</th>\n",
       "      <td>487798</td>\n",
       "    </tr>\n",
       "    <tr>\n",
       "      <th>2016-01-01</th>\n",
       "      <td>484833</td>\n",
       "    </tr>\n",
       "    <tr>\n",
       "      <th>2016-02-01</th>\n",
       "      <td>462864</td>\n",
       "    </tr>\n",
       "    <tr>\n",
       "      <th>2016-03-01</th>\n",
       "      <td>494076</td>\n",
       "    </tr>\n",
       "    <tr>\n",
       "      <th>2016-04-01</th>\n",
       "      <td>460209</td>\n",
       "    </tr>\n",
       "    <tr>\n",
       "      <th>2016-05-01</th>\n",
       "      <td>493191</td>\n",
       "    </tr>\n",
       "    <tr>\n",
       "      <th>2016-06-01</th>\n",
       "      <td>480210</td>\n",
       "    </tr>\n",
       "    <tr>\n",
       "      <th>2016-07-01</th>\n",
       "      <td>490221</td>\n",
       "    </tr>\n",
       "    <tr>\n",
       "      <th>2016-08-01</th>\n",
       "      <td>470554</td>\n",
       "    </tr>\n",
       "    <tr>\n",
       "      <th>2016-09-01</th>\n",
       "      <td>475808</td>\n",
       "    </tr>\n",
       "    <tr>\n",
       "      <th>2016-10-01</th>\n",
       "      <td>492983</td>\n",
       "    </tr>\n",
       "    <tr>\n",
       "      <th>2016-11-01</th>\n",
       "      <td>489326</td>\n",
       "    </tr>\n",
       "    <tr>\n",
       "      <th>2016-12-01</th>\n",
       "      <td>497915</td>\n",
       "    </tr>\n",
       "    <tr>\n",
       "      <th>2017-01-01</th>\n",
       "      <td>492273</td>\n",
       "    </tr>\n",
       "    <tr>\n",
       "      <th>2017-02-01</th>\n",
       "      <td>447688</td>\n",
       "    </tr>\n",
       "    <tr>\n",
       "      <th>2017-03-01</th>\n",
       "      <td>509805</td>\n",
       "    </tr>\n",
       "    <tr>\n",
       "      <th>2017-04-01</th>\n",
       "      <td>471328</td>\n",
       "    </tr>\n",
       "    <tr>\n",
       "      <th>2017-05-01</th>\n",
       "      <td>505843</td>\n",
       "    </tr>\n",
       "    <tr>\n",
       "      <th>2017-06-01</th>\n",
       "      <td>491206</td>\n",
       "    </tr>\n",
       "    <tr>\n",
       "      <th>2017-07-01</th>\n",
       "      <td>499259</td>\n",
       "    </tr>\n",
       "    <tr>\n",
       "      <th>2017-08-01</th>\n",
       "      <td>486074</td>\n",
       "    </tr>\n",
       "    <tr>\n",
       "      <th>2017-09-01</th>\n",
       "      <td>486799</td>\n",
       "    </tr>\n",
       "    <tr>\n",
       "      <th>2017-10-01</th>\n",
       "      <td>513217</td>\n",
       "    </tr>\n",
       "    <tr>\n",
       "      <th>2017-11-01</th>\n",
       "      <td>513019</td>\n",
       "    </tr>\n",
       "    <tr>\n",
       "      <th>2017-12-01</th>\n",
       "      <td>520803</td>\n",
       "    </tr>\n",
       "    <tr>\n",
       "      <th>2018-01-01</th>\n",
       "      <td>526045</td>\n",
       "    </tr>\n",
       "  </tbody>\n",
       "</table>\n",
       "</div>"
      ],
      "text/plain": [
       "            Emadmissions\n",
       "Period                  \n",
       "2015-12-01        487798\n",
       "2016-01-01        484833\n",
       "2016-02-01        462864\n",
       "2016-03-01        494076\n",
       "2016-04-01        460209\n",
       "2016-05-01        493191\n",
       "2016-06-01        480210\n",
       "2016-07-01        490221\n",
       "2016-08-01        470554\n",
       "2016-09-01        475808\n",
       "2016-10-01        492983\n",
       "2016-11-01        489326\n",
       "2016-12-01        497915\n",
       "2017-01-01        492273\n",
       "2017-02-01        447688\n",
       "2017-03-01        509805\n",
       "2017-04-01        471328\n",
       "2017-05-01        505843\n",
       "2017-06-01        491206\n",
       "2017-07-01        499259\n",
       "2017-08-01        486074\n",
       "2017-09-01        486799\n",
       "2017-10-01        513217\n",
       "2017-11-01        513019\n",
       "2017-12-01        520803\n",
       "2018-01-01        526045"
      ]
     },
     "execution_count": 429,
     "metadata": {},
     "output_type": "execute_result"
    }
   ],
   "source": [
    "valdataf.rename(columns={'Total Emergency Admissions':'Emadmissions'})"
   ]
  },
  {
   "cell_type": "code",
   "execution_count": 430,
   "metadata": {},
   "outputs": [],
   "source": [
    "holdf = hold.to_frame().apply(np.int64)"
   ]
  },
  {
   "cell_type": "code",
   "execution_count": 431,
   "metadata": {},
   "outputs": [
    {
     "data": {
      "text/html": [
       "<div>\n",
       "<style scoped>\n",
       "    .dataframe tbody tr th:only-of-type {\n",
       "        vertical-align: middle;\n",
       "    }\n",
       "\n",
       "    .dataframe tbody tr th {\n",
       "        vertical-align: top;\n",
       "    }\n",
       "\n",
       "    .dataframe thead th {\n",
       "        text-align: right;\n",
       "    }\n",
       "</style>\n",
       "<table border=\"1\" class=\"dataframe\">\n",
       "  <thead>\n",
       "    <tr style=\"text-align: right;\">\n",
       "      <th></th>\n",
       "      <th>Emadmissions</th>\n",
       "    </tr>\n",
       "    <tr>\n",
       "      <th>Period</th>\n",
       "      <th></th>\n",
       "    </tr>\n",
       "  </thead>\n",
       "  <tbody>\n",
       "    <tr>\n",
       "      <th>2018-02-01</th>\n",
       "      <td>476867</td>\n",
       "    </tr>\n",
       "    <tr>\n",
       "      <th>2018-03-01</th>\n",
       "      <td>526066</td>\n",
       "    </tr>\n",
       "    <tr>\n",
       "      <th>2018-04-01</th>\n",
       "      <td>503393</td>\n",
       "    </tr>\n",
       "    <tr>\n",
       "      <th>2018-05-01</th>\n",
       "      <td>533457</td>\n",
       "    </tr>\n",
       "    <tr>\n",
       "      <th>2018-06-01</th>\n",
       "      <td>513254</td>\n",
       "    </tr>\n",
       "    <tr>\n",
       "      <th>2018-07-01</th>\n",
       "      <td>529932</td>\n",
       "    </tr>\n",
       "    <tr>\n",
       "      <th>2018-08-01</th>\n",
       "      <td>517299</td>\n",
       "    </tr>\n",
       "    <tr>\n",
       "      <th>2018-09-01</th>\n",
       "      <td>510322</td>\n",
       "    </tr>\n",
       "    <tr>\n",
       "      <th>2018-10-01</th>\n",
       "      <td>546022</td>\n",
       "    </tr>\n",
       "    <tr>\n",
       "      <th>2018-11-01</th>\n",
       "      <td>545357</td>\n",
       "    </tr>\n",
       "    <tr>\n",
       "      <th>2018-12-01</th>\n",
       "      <td>544903</td>\n",
       "    </tr>\n",
       "    <tr>\n",
       "      <th>2019-01-01</th>\n",
       "      <td>564035</td>\n",
       "    </tr>\n",
       "    <tr>\n",
       "      <th>2019-02-01</th>\n",
       "      <td>505722</td>\n",
       "    </tr>\n",
       "    <tr>\n",
       "      <th>2019-03-01</th>\n",
       "      <td>555457</td>\n",
       "    </tr>\n",
       "    <tr>\n",
       "      <th>2019-04-01</th>\n",
       "      <td>535226</td>\n",
       "    </tr>\n",
       "    <tr>\n",
       "      <th>2019-05-01</th>\n",
       "      <td>547382</td>\n",
       "    </tr>\n",
       "    <tr>\n",
       "      <th>2019-06-01</th>\n",
       "      <td>528801</td>\n",
       "    </tr>\n",
       "    <tr>\n",
       "      <th>2019-07-01</th>\n",
       "      <td>554069</td>\n",
       "    </tr>\n",
       "    <tr>\n",
       "      <th>2019-08-01</th>\n",
       "      <td>529231</td>\n",
       "    </tr>\n",
       "    <tr>\n",
       "      <th>2019-09-01</th>\n",
       "      <td>529903</td>\n",
       "    </tr>\n",
       "  </tbody>\n",
       "</table>\n",
       "</div>"
      ],
      "text/plain": [
       "            Emadmissions\n",
       "Period                  \n",
       "2018-02-01        476867\n",
       "2018-03-01        526066\n",
       "2018-04-01        503393\n",
       "2018-05-01        533457\n",
       "2018-06-01        513254\n",
       "2018-07-01        529932\n",
       "2018-08-01        517299\n",
       "2018-09-01        510322\n",
       "2018-10-01        546022\n",
       "2018-11-01        545357\n",
       "2018-12-01        544903\n",
       "2019-01-01        564035\n",
       "2019-02-01        505722\n",
       "2019-03-01        555457\n",
       "2019-04-01        535226\n",
       "2019-05-01        547382\n",
       "2019-06-01        528801\n",
       "2019-07-01        554069\n",
       "2019-08-01        529231\n",
       "2019-09-01        529903"
      ]
     },
     "execution_count": 431,
     "metadata": {},
     "output_type": "execute_result"
    }
   ],
   "source": [
    "holdf.rename(columns={'Total Emergency Admissions':'Emadmissions'})"
   ]
  },
  {
   "cell_type": "code",
   "execution_count": 432,
   "metadata": {},
   "outputs": [
    {
     "data": {
      "text/html": [
       "<div>\n",
       "<style scoped>\n",
       "    .dataframe tbody tr th:only-of-type {\n",
       "        vertical-align: middle;\n",
       "    }\n",
       "\n",
       "    .dataframe tbody tr th {\n",
       "        vertical-align: top;\n",
       "    }\n",
       "\n",
       "    .dataframe thead th {\n",
       "        text-align: right;\n",
       "    }\n",
       "</style>\n",
       "<table border=\"1\" class=\"dataframe\">\n",
       "  <thead>\n",
       "    <tr style=\"text-align: right;\">\n",
       "      <th></th>\n",
       "      <th>Total Emergency Admissions</th>\n",
       "    </tr>\n",
       "    <tr>\n",
       "      <th>Period</th>\n",
       "      <th></th>\n",
       "    </tr>\n",
       "  </thead>\n",
       "  <tbody>\n",
       "    <tr>\n",
       "      <th>2019-05-01</th>\n",
       "      <td>547382</td>\n",
       "    </tr>\n",
       "    <tr>\n",
       "      <th>2019-06-01</th>\n",
       "      <td>528801</td>\n",
       "    </tr>\n",
       "    <tr>\n",
       "      <th>2019-07-01</th>\n",
       "      <td>554069</td>\n",
       "    </tr>\n",
       "    <tr>\n",
       "      <th>2019-08-01</th>\n",
       "      <td>529231</td>\n",
       "    </tr>\n",
       "    <tr>\n",
       "      <th>2019-09-01</th>\n",
       "      <td>529903</td>\n",
       "    </tr>\n",
       "  </tbody>\n",
       "</table>\n",
       "</div>"
      ],
      "text/plain": [
       "            Total Emergency Admissions\n",
       "Period                                \n",
       "2019-05-01                      547382\n",
       "2019-06-01                      528801\n",
       "2019-07-01                      554069\n",
       "2019-08-01                      529231\n",
       "2019-09-01                      529903"
      ]
     },
     "execution_count": 432,
     "metadata": {},
     "output_type": "execute_result"
    }
   ],
   "source": [
    "holdf.tail()"
   ]
  },
  {
   "cell_type": "code",
   "execution_count": 433,
   "metadata": {},
   "outputs": [
    {
     "data": {
      "text/plain": [
       "64"
      ]
     },
     "execution_count": 433,
     "metadata": {},
     "output_type": "execute_result"
    }
   ],
   "source": [
    "# LENGTH of renamed TRAIN dataset\n",
    "len(traindataf)"
   ]
  },
  {
   "cell_type": "code",
   "execution_count": 434,
   "metadata": {},
   "outputs": [
    {
     "data": {
      "text/plain": [
       "26"
      ]
     },
     "execution_count": 434,
     "metadata": {},
     "output_type": "execute_result"
    }
   ],
   "source": [
    "# LENGTH of renamed VALIDATION dataset\n",
    "len(valdataf)"
   ]
  },
  {
   "cell_type": "code",
   "execution_count": 435,
   "metadata": {},
   "outputs": [
    {
     "data": {
      "text/plain": [
       "20"
      ]
     },
     "execution_count": 435,
     "metadata": {},
     "output_type": "execute_result"
    }
   ],
   "source": [
    "# LENGTH of renamed HOLD dataset\n",
    "len(holdf)"
   ]
  },
  {
   "cell_type": "markdown",
   "metadata": {},
   "source": [
    "## Task 1.2.1 Plot the remaining datasets "
   ]
  },
  {
   "cell_type": "code",
   "execution_count": 436,
   "metadata": {},
   "outputs": [],
   "source": [
    "inception_data = traindataf.append(valdataf,ignore_index=True)"
   ]
  },
  {
   "cell_type": "code",
   "execution_count": 437,
   "metadata": {},
   "outputs": [
    {
     "data": {
      "text/plain": [
       "pandas.core.frame.DataFrame"
      ]
     },
     "execution_count": 437,
     "metadata": {},
     "output_type": "execute_result"
    }
   ],
   "source": [
    "type(traindataf)"
   ]
  },
  {
   "cell_type": "markdown",
   "metadata": {},
   "source": [
    "## Combine Train and Validation datasets data "
   ]
  },
  {
   "cell_type": "code",
   "execution_count": 438,
   "metadata": {},
   "outputs": [],
   "source": [
    "Trainval = traindataf.append(valdataf,ignore_index=True)"
   ]
  },
  {
   "cell_type": "code",
   "execution_count": null,
   "metadata": {},
   "outputs": [],
   "source": []
  },
  {
   "cell_type": "code",
   "execution_count": 439,
   "metadata": {
    "scrolled": true
   },
   "outputs": [
    {
     "data": {
      "image/png": "[encoded data removed]",
      "text/plain": [
       "<Figure size 432x288 with 1 Axes>"
      ]
     },
     "metadata": {
      "needs_background": "light"
     },
     "output_type": "display_data"
    }
   ],
   "source": [
    "plt.figure(figsize=(6,4))\n",
    "plt.title('Training dataset')\n",
    "plt.plot(traindataf, label = \"Training data\")\n",
    "plt.legend()\n",
    "plt.ylabel(\"value\")\n",
    "plt.xlabel(\"days\")\n",
    "plt.show()\n"
   ]
  },
  {
   "cell_type": "markdown",
   "metadata": {},
   "source": [
    "## Plot all three datasets Train, Validation and hold datasets "
   ]
  },
  {
   "cell_type": "code",
   "execution_count": 440,
   "metadata": {},
   "outputs": [
    {
     "data": {
      "image/png": "[encoded data removed]",
      "text/plain": [
       "<Figure size 432x288 with 1 Axes>"
      ]
     },
     "metadata": {
      "needs_background": "light"
     },
     "output_type": "display_data"
    }
   ],
   "source": [
    "plt.figure(figsize=(6,4))\n",
    "plt.title('Total emergency admissions')\n",
    "plt.plot(traindataf, label = \"Train data\")\n",
    "plt.plot(valdataf, label = \"Validation data\")\n",
    "plt.plot(holdf, label = \"Hold data\")\n",
    "plt.legend()\n",
    "plt.ylabel(\"value\")\n",
    "plt.xlabel(\"days\")\n",
    "plt.show()"
   ]
  },
  {
   "cell_type": "code",
   "execution_count": 441,
   "metadata": {},
   "outputs": [
    {
     "data": {
      "image/png": "[encoded data removed]",
      "text/plain": [
       "<Figure size 432x288 with 1 Axes>"
      ]
     },
     "metadata": {
      "needs_background": "light"
     },
     "output_type": "display_data"
    }
   ],
   "source": [
    "plt.figure(figsize=(6,4))\n",
    "plt.title('Total emergency admissions')\n",
    "plt.plot(traindataf, label = \"Train data\")\n",
    "plt.plot(valdataf, label = \"Validation data\")\n",
    "plt.plot(holdf, label = \"Hold data\")\n",
    "plt.legend()\n",
    "plt.ylabel(\"value\")\n",
    "plt.xlabel(\"days\")\n",
    "plt.show()"
   ]
  },
  {
   "cell_type": "code",
   "execution_count": 183,
   "metadata": {},
   "outputs": [],
   "source": [
    "# There is seasonality\n",
    "# There is trend in the data \n",
    "# ANd the variance is changing"
   ]
  },
  {
   "cell_type": "code",
   "execution_count": 184,
   "metadata": {},
   "outputs": [],
   "source": [
    "# Task 1.3 (Optional!)\n",
    "# Although not important at this stage it would be natural to try plot the auto-correlation function and the partial-auto correlation function. This will tell us if exponential smoothing/ARIMA is a good first model to attempt. The results are not conclusive but just a helpful indication of what to do next.\n"
   ]
  },
  {
   "cell_type": "code",
   "execution_count": null,
   "metadata": {},
   "outputs": [],
   "source": []
  },
  {
   "cell_type": "markdown",
   "metadata": {},
   "source": [
    "## ACF and PACF plots"
   ]
  },
  {
   "cell_type": "code",
   "execution_count": 185,
   "metadata": {},
   "outputs": [],
   "source": [
    "import matplotlib.pyplot as plt\n",
    "from statsmodels.graphics import tsaplots\n"
   ]
  },
  {
   "cell_type": "code",
   "execution_count": 186,
   "metadata": {},
   "outputs": [
    {
     "data": {
      "text/plain": [
       "pandas.core.frame.DataFrame"
      ]
     },
     "execution_count": 186,
     "metadata": {},
     "output_type": "execute_result"
    }
   ],
   "source": [
    "type(traindataf)"
   ]
  },
  {
   "cell_type": "code",
   "execution_count": 187,
   "metadata": {},
   "outputs": [],
   "source": [
    "# We differentiate the data using .diff() function\n",
    "# Use it on train_ARIMA_input dataset\n",
    "# .dropna() Use the dropna() in the diff() data step as this is the step that was producing the null values \n",
    "Diff_01 = traindataf.diff().dropna()"
   ]
  },
  {
   "cell_type": "code",
   "execution_count": 188,
   "metadata": {},
   "outputs": [
    {
     "data": {
      "text/plain": [
       "pandas.core.frame.DataFrame"
      ]
     },
     "execution_count": 188,
     "metadata": {},
     "output_type": "execute_result"
    }
   ],
   "source": [
    "type(Diff_01)"
   ]
  },
  {
   "cell_type": "code",
   "execution_count": 189,
   "metadata": {},
   "outputs": [],
   "source": [
    "# ACF plot on the train dataset "
   ]
  },
  {
   "cell_type": "code",
   "execution_count": 190,
   "metadata": {},
   "outputs": [
    {
     "name": "stderr",
     "output_type": "stream",
     "text": [
      "/opt/anaconda/envs/Python3/lib/python3.6/site-packages/statsmodels/regression/linear_model.py:1406: RuntimeWarning: invalid value encountered in sqrt\n",
      "  return rho, np.sqrt(sigmasq)\n"
     ]
    },
    {
     "data": {
      "image/png": "[encoded data removed]",
      "text/plain": [
       "<Figure size 432x288 with 1 Axes>"
      ]
     },
     "metadata": {
      "needs_background": "light"
     },
     "output_type": "display_data"
    }
   ],
   "source": [
    "FigPACF = tsaplots.plot_pacf(Diff_01,lags=40)"
   ]
  },
  {
   "cell_type": "code",
   "execution_count": 191,
   "metadata": {},
   "outputs": [],
   "source": [
    "# PACF plot on the train dataset "
   ]
  },
  {
   "cell_type": "code",
   "execution_count": 192,
   "metadata": {},
   "outputs": [
    {
     "data": {
      "image/png": "[encoded data removed]",
      "text/plain": [
       "<Figure size 432x288 with 1 Axes>"
      ]
     },
     "metadata": {
      "needs_background": "light"
     },
     "output_type": "display_data"
    }
   ],
   "source": [
    "FigACF = tsaplots.plot_acf(Diff_01,lags=40)"
   ]
  },
  {
   "cell_type": "code",
   "execution_count": 193,
   "metadata": {},
   "outputs": [],
   "source": [
    "# Check for stationarity of the data "
   ]
  },
  {
   "cell_type": "markdown",
   "metadata": {},
   "source": [
    "## 1 Dichkey Fuller test on first differienced train dataset (Emergency Admissions)"
   ]
  },
  {
   "cell_type": "code",
   "execution_count": 194,
   "metadata": {},
   "outputs": [
    {
     "data": {
      "text/html": [
       "<div>\n",
       "<style scoped>\n",
       "    .dataframe tbody tr th:only-of-type {\n",
       "        vertical-align: middle;\n",
       "    }\n",
       "\n",
       "    .dataframe tbody tr th {\n",
       "        vertical-align: top;\n",
       "    }\n",
       "\n",
       "    .dataframe thead th {\n",
       "        text-align: right;\n",
       "    }\n",
       "</style>\n",
       "<table border=\"1\" class=\"dataframe\">\n",
       "  <thead>\n",
       "    <tr style=\"text-align: right;\">\n",
       "      <th></th>\n",
       "      <th>Total Emergency Admissions</th>\n",
       "    </tr>\n",
       "    <tr>\n",
       "      <th>Period</th>\n",
       "      <th></th>\n",
       "    </tr>\n",
       "  </thead>\n",
       "  <tbody>\n",
       "    <tr>\n",
       "      <th>2010-08-01</th>\n",
       "      <td>425702</td>\n",
       "    </tr>\n",
       "    <tr>\n",
       "      <th>2010-09-01</th>\n",
       "      <td>424900</td>\n",
       "    </tr>\n",
       "    <tr>\n",
       "      <th>2010-10-01</th>\n",
       "      <td>436215</td>\n",
       "    </tr>\n",
       "    <tr>\n",
       "      <th>2010-11-01</th>\n",
       "      <td>429099</td>\n",
       "    </tr>\n",
       "    <tr>\n",
       "      <th>2010-12-01</th>\n",
       "      <td>452728</td>\n",
       "    </tr>\n",
       "    <tr>\n",
       "      <th>...</th>\n",
       "      <td>...</td>\n",
       "    </tr>\n",
       "    <tr>\n",
       "      <th>2015-07-01</th>\n",
       "      <td>473914</td>\n",
       "    </tr>\n",
       "    <tr>\n",
       "      <th>2015-08-01</th>\n",
       "      <td>455432</td>\n",
       "    </tr>\n",
       "    <tr>\n",
       "      <th>2015-09-01</th>\n",
       "      <td>464195</td>\n",
       "    </tr>\n",
       "    <tr>\n",
       "      <th>2015-10-01</th>\n",
       "      <td>479987</td>\n",
       "    </tr>\n",
       "    <tr>\n",
       "      <th>2015-11-01</th>\n",
       "      <td>475564</td>\n",
       "    </tr>\n",
       "  </tbody>\n",
       "</table>\n",
       "<p>64 rows × 1 columns</p>\n",
       "</div>"
      ],
      "text/plain": [
       "            Total Emergency Admissions\n",
       "Period                                \n",
       "2010-08-01                      425702\n",
       "2010-09-01                      424900\n",
       "2010-10-01                      436215\n",
       "2010-11-01                      429099\n",
       "2010-12-01                      452728\n",
       "...                                ...\n",
       "2015-07-01                      473914\n",
       "2015-08-01                      455432\n",
       "2015-09-01                      464195\n",
       "2015-10-01                      479987\n",
       "2015-11-01                      475564\n",
       "\n",
       "[64 rows x 1 columns]"
      ]
     },
     "execution_count": 194,
     "metadata": {},
     "output_type": "execute_result"
    }
   ],
   "source": [
    "traindataf"
   ]
  },
  {
   "cell_type": "code",
   "execution_count": 195,
   "metadata": {},
   "outputs": [
    {
     "data": {
      "text/html": [
       "<div>\n",
       "<style scoped>\n",
       "    .dataframe tbody tr th:only-of-type {\n",
       "        vertical-align: middle;\n",
       "    }\n",
       "\n",
       "    .dataframe tbody tr th {\n",
       "        vertical-align: top;\n",
       "    }\n",
       "\n",
       "    .dataframe thead th {\n",
       "        text-align: right;\n",
       "    }\n",
       "</style>\n",
       "<table border=\"1\" class=\"dataframe\">\n",
       "  <thead>\n",
       "    <tr style=\"text-align: right;\">\n",
       "      <th></th>\n",
       "      <th>Total Emergency Admissions</th>\n",
       "    </tr>\n",
       "    <tr>\n",
       "      <th>Period</th>\n",
       "      <th></th>\n",
       "    </tr>\n",
       "  </thead>\n",
       "  <tbody>\n",
       "    <tr>\n",
       "      <th>2010-08-01</th>\n",
       "      <td>425702</td>\n",
       "    </tr>\n",
       "    <tr>\n",
       "      <th>2010-09-01</th>\n",
       "      <td>424900</td>\n",
       "    </tr>\n",
       "    <tr>\n",
       "      <th>2010-10-01</th>\n",
       "      <td>436215</td>\n",
       "    </tr>\n",
       "    <tr>\n",
       "      <th>2010-11-01</th>\n",
       "      <td>429099</td>\n",
       "    </tr>\n",
       "    <tr>\n",
       "      <th>2010-12-01</th>\n",
       "      <td>452728</td>\n",
       "    </tr>\n",
       "  </tbody>\n",
       "</table>\n",
       "</div>"
      ],
      "text/plain": [
       "            Total Emergency Admissions\n",
       "Period                                \n",
       "2010-08-01                      425702\n",
       "2010-09-01                      424900\n",
       "2010-10-01                      436215\n",
       "2010-11-01                      429099\n",
       "2010-12-01                      452728"
      ]
     },
     "execution_count": 195,
     "metadata": {},
     "output_type": "execute_result"
    }
   ],
   "source": [
    "# Subjet just value variable for  ARIMA models \n",
    "# traindata = Emergency_admissions.iloc[0:64]\n",
    "# valdata = Emergency_admissions.iloc[64:90]\n",
    "\n",
    "# traindata_model = traindata['Total Emergency Admissions']\n",
    "# valdata_model = valdata['Total Emergency Admissions']\n",
    "\n",
    "traindataf.head()"
   ]
  },
  {
   "cell_type": "code",
   "execution_count": 196,
   "metadata": {},
   "outputs": [],
   "source": [
    "# Copy original traindata dataset\n",
    "trainARIMA = traindataf"
   ]
  },
  {
   "cell_type": "code",
   "execution_count": 161,
   "metadata": {},
   "outputs": [
    {
     "data": {
      "text/html": [
       "<div>\n",
       "<style scoped>\n",
       "    .dataframe tbody tr th:only-of-type {\n",
       "        vertical-align: middle;\n",
       "    }\n",
       "\n",
       "    .dataframe tbody tr th {\n",
       "        vertical-align: top;\n",
       "    }\n",
       "\n",
       "    .dataframe thead th {\n",
       "        text-align: right;\n",
       "    }\n",
       "</style>\n",
       "<table border=\"1\" class=\"dataframe\">\n",
       "  <thead>\n",
       "    <tr style=\"text-align: right;\">\n",
       "      <th></th>\n",
       "      <th>Total Emergency Admissions</th>\n",
       "    </tr>\n",
       "    <tr>\n",
       "      <th>Period</th>\n",
       "      <th></th>\n",
       "    </tr>\n",
       "  </thead>\n",
       "  <tbody>\n",
       "    <tr>\n",
       "      <th>2010-08-01</th>\n",
       "      <td>425702</td>\n",
       "    </tr>\n",
       "    <tr>\n",
       "      <th>2010-09-01</th>\n",
       "      <td>424900</td>\n",
       "    </tr>\n",
       "    <tr>\n",
       "      <th>2010-10-01</th>\n",
       "      <td>436215</td>\n",
       "    </tr>\n",
       "    <tr>\n",
       "      <th>2010-11-01</th>\n",
       "      <td>429099</td>\n",
       "    </tr>\n",
       "    <tr>\n",
       "      <th>2010-12-01</th>\n",
       "      <td>452728</td>\n",
       "    </tr>\n",
       "  </tbody>\n",
       "</table>\n",
       "</div>"
      ],
      "text/plain": [
       "            Total Emergency Admissions\n",
       "Period                                \n",
       "2010-08-01                      425702\n",
       "2010-09-01                      424900\n",
       "2010-10-01                      436215\n",
       "2010-11-01                      429099\n",
       "2010-12-01                      452728"
      ]
     },
     "execution_count": 161,
     "metadata": {},
     "output_type": "execute_result"
    }
   ],
   "source": [
    "trainARIMA.head()"
   ]
  },
  {
   "cell_type": "code",
   "execution_count": 274,
   "metadata": {},
   "outputs": [
    {
     "data": {
      "text/html": [
       "<div>\n",
       "<style scoped>\n",
       "    .dataframe tbody tr th:only-of-type {\n",
       "        vertical-align: middle;\n",
       "    }\n",
       "\n",
       "    .dataframe tbody tr th {\n",
       "        vertical-align: top;\n",
       "    }\n",
       "\n",
       "    .dataframe thead th {\n",
       "        text-align: right;\n",
       "    }\n",
       "</style>\n",
       "<table border=\"1\" class=\"dataframe\">\n",
       "  <thead>\n",
       "    <tr style=\"text-align: right;\">\n",
       "      <th></th>\n",
       "      <th>Emadmissions</th>\n",
       "    </tr>\n",
       "    <tr>\n",
       "      <th>Period</th>\n",
       "      <th></th>\n",
       "    </tr>\n",
       "  </thead>\n",
       "  <tbody>\n",
       "    <tr>\n",
       "      <th>2010-08-01</th>\n",
       "      <td>425702</td>\n",
       "    </tr>\n",
       "    <tr>\n",
       "      <th>2010-09-01</th>\n",
       "      <td>424900</td>\n",
       "    </tr>\n",
       "    <tr>\n",
       "      <th>2010-10-01</th>\n",
       "      <td>436215</td>\n",
       "    </tr>\n",
       "    <tr>\n",
       "      <th>2010-11-01</th>\n",
       "      <td>429099</td>\n",
       "    </tr>\n",
       "    <tr>\n",
       "      <th>2010-12-01</th>\n",
       "      <td>452728</td>\n",
       "    </tr>\n",
       "    <tr>\n",
       "      <th>...</th>\n",
       "      <td>...</td>\n",
       "    </tr>\n",
       "    <tr>\n",
       "      <th>2015-07-01</th>\n",
       "      <td>473914</td>\n",
       "    </tr>\n",
       "    <tr>\n",
       "      <th>2015-08-01</th>\n",
       "      <td>455432</td>\n",
       "    </tr>\n",
       "    <tr>\n",
       "      <th>2015-09-01</th>\n",
       "      <td>464195</td>\n",
       "    </tr>\n",
       "    <tr>\n",
       "      <th>2015-10-01</th>\n",
       "      <td>479987</td>\n",
       "    </tr>\n",
       "    <tr>\n",
       "      <th>2015-11-01</th>\n",
       "      <td>475564</td>\n",
       "    </tr>\n",
       "  </tbody>\n",
       "</table>\n",
       "<p>64 rows × 1 columns</p>\n",
       "</div>"
      ],
      "text/plain": [
       "            Emadmissions\n",
       "Period                  \n",
       "2010-08-01        425702\n",
       "2010-09-01        424900\n",
       "2010-10-01        436215\n",
       "2010-11-01        429099\n",
       "2010-12-01        452728\n",
       "...                  ...\n",
       "2015-07-01        473914\n",
       "2015-08-01        455432\n",
       "2015-09-01        464195\n",
       "2015-10-01        479987\n",
       "2015-11-01        475564\n",
       "\n",
       "[64 rows x 1 columns]"
      ]
     },
     "execution_count": 274,
     "metadata": {},
     "output_type": "execute_result"
    }
   ],
   "source": [
    "trainARIMA.rename(columns={'Total Emergency Admissions':'Emadmissions'})"
   ]
  },
  {
   "cell_type": "code",
   "execution_count": null,
   "metadata": {},
   "outputs": [],
   "source": [
    "## Question, before it turned into a dataframe "
   ]
  },
  {
   "cell_type": "code",
   "execution_count": 198,
   "metadata": {},
   "outputs": [
    {
     "data": {
      "text/html": [
       "<div>\n",
       "<style scoped>\n",
       "    .dataframe tbody tr th:only-of-type {\n",
       "        vertical-align: middle;\n",
       "    }\n",
       "\n",
       "    .dataframe tbody tr th {\n",
       "        vertical-align: top;\n",
       "    }\n",
       "\n",
       "    .dataframe thead th {\n",
       "        text-align: right;\n",
       "    }\n",
       "</style>\n",
       "<table border=\"1\" class=\"dataframe\">\n",
       "  <thead>\n",
       "    <tr style=\"text-align: right;\">\n",
       "      <th></th>\n",
       "      <th>Total Emergency Admissions</th>\n",
       "    </tr>\n",
       "    <tr>\n",
       "      <th>Period</th>\n",
       "      <th></th>\n",
       "    </tr>\n",
       "  </thead>\n",
       "  <tbody>\n",
       "    <tr>\n",
       "      <th>2010-08-01</th>\n",
       "      <td>425702</td>\n",
       "    </tr>\n",
       "    <tr>\n",
       "      <th>2010-09-01</th>\n",
       "      <td>424900</td>\n",
       "    </tr>\n",
       "    <tr>\n",
       "      <th>2010-10-01</th>\n",
       "      <td>436215</td>\n",
       "    </tr>\n",
       "    <tr>\n",
       "      <th>2010-11-01</th>\n",
       "      <td>429099</td>\n",
       "    </tr>\n",
       "    <tr>\n",
       "      <th>2010-12-01</th>\n",
       "      <td>452728</td>\n",
       "    </tr>\n",
       "  </tbody>\n",
       "</table>\n",
       "</div>"
      ],
      "text/plain": [
       "            Total Emergency Admissions\n",
       "Period                                \n",
       "2010-08-01                      425702\n",
       "2010-09-01                      424900\n",
       "2010-10-01                      436215\n",
       "2010-11-01                      429099\n",
       "2010-12-01                      452728"
      ]
     },
     "execution_count": 198,
     "metadata": {},
     "output_type": "execute_result"
    }
   ],
   "source": [
    "trainARIMA.head()"
   ]
  },
  {
   "cell_type": "code",
   "execution_count": 199,
   "metadata": {},
   "outputs": [],
   "source": [
    "# Use it on train_ARIMA_input dataset\n",
    "# .dropna() Use the dropna() in the diff() data step as this is the step that was producing the null values \n",
    "Diff_01 = trainARIMA.diff().dropna()\n"
   ]
  },
  {
   "cell_type": "code",
   "execution_count": 200,
   "metadata": {},
   "outputs": [
    {
     "name": "stdout",
     "output_type": "stream",
     "text": [
      "pvalue: 0.04279817391848771\n"
     ]
    }
   ],
   "source": [
    "from statsmodels.tsa.stattools import adfuller\n",
    "X = Diff_01\n",
    "result = adfuller(X)\n",
    "print(f'pvalue: {result[1]}')\n"
   ]
  },
  {
   "cell_type": "markdown",
   "metadata": {},
   "source": [
    "### Interpretation, as the Dickey-Filler test shows p-value < 0.05 then we reject null hypothesis, so the data IS STATIONARY on the first difference"
   ]
  },
  {
   "cell_type": "code",
   "execution_count": 201,
   "metadata": {},
   "outputs": [
    {
     "data": {
      "text/plain": [
       "[<matplotlib.lines.Line2D at 0x7f57ca060b70>]"
      ]
     },
     "execution_count": 201,
     "metadata": {},
     "output_type": "execute_result"
    },
    {
     "data": {
      "image/png": "[encoded data removed]",
      "text/plain": [
       "<Figure size 432x288 with 1 Axes>"
      ]
     },
     "metadata": {
      "needs_background": "light"
     },
     "output_type": "display_data"
    }
   ],
   "source": [
    "plt.plot(Diff_01)"
   ]
  },
  {
   "cell_type": "markdown",
   "metadata": {},
   "source": [
    "## 2 Fit an auto-arima model on the TRAIN data "
   ]
  },
  {
   "cell_type": "markdown",
   "metadata": {},
   "source": [
    "###  2.1 Install required paackages "
   ]
  },
  {
   "cell_type": "code",
   "execution_count": 202,
   "metadata": {},
   "outputs": [
    {
     "name": "stdout",
     "output_type": "stream",
     "text": [
      "Requirement already satisfied: pmdarima in /opt/anaconda/envs/Python3/lib/python3.6/site-packages (1.7.0)\n",
      "Requirement already satisfied: pandas>=0.19 in /opt/anaconda/envs/Python3/lib/python3.6/site-packages (from pmdarima) (1.0.4)\n",
      "Requirement already satisfied: numpy>=1.17.3 in /opt/anaconda/envs/Python3/lib/python3.6/site-packages (from pmdarima) (1.18.1)\n",
      "Requirement already satisfied: joblib>=0.11 in /opt/anaconda/envs/Python3/lib/python3.6/site-packages (from pmdarima) (0.15.1)\n",
      "Requirement already satisfied: scipy>=1.3.2 in /opt/anaconda/envs/Python3/lib/python3.6/site-packages (from pmdarima) (1.4.1)\n",
      "Requirement already satisfied: Cython<0.29.18,>=0.29 in /opt/anaconda/envs/Python3/lib/python3.6/site-packages (from pmdarima) (0.29.17)\n",
      "Requirement already satisfied: statsmodels>=0.11 in /opt/anaconda/envs/Python3/lib/python3.6/site-packages (from pmdarima) (0.11.1)\n",
      "Requirement already satisfied: scikit-learn>=0.22 in /opt/anaconda/envs/Python3/lib/python3.6/site-packages (from pmdarima) (0.22.1)\n",
      "Requirement already satisfied: urllib3 in /opt/anaconda/envs/Python3/lib/python3.6/site-packages (from pmdarima) (1.25.9)\n",
      "Requirement already satisfied: python-dateutil>=2.6.1 in /opt/anaconda/envs/Python3/lib/python3.6/site-packages (from pandas>=0.19->pmdarima) (2.8.1)\n",
      "Requirement already satisfied: pytz>=2017.2 in /opt/anaconda/envs/Python3/lib/python3.6/site-packages (from pandas>=0.19->pmdarima) (2020.1)\n",
      "Requirement already satisfied: patsy>=0.5 in /opt/anaconda/envs/Python3/lib/python3.6/site-packages (from statsmodels>=0.11->pmdarima) (0.5.1)\n",
      "Requirement already satisfied: six>=1.5 in /opt/anaconda/envs/Python3/lib/python3.6/site-packages (from python-dateutil>=2.6.1->pandas>=0.19->pmdarima) (1.15.0)\n"
     ]
    }
   ],
   "source": [
    "# 2.1 Install required packages\n",
    "! pip install pmdarima\n"
   ]
  },
  {
   "cell_type": "code",
   "execution_count": 203,
   "metadata": {},
   "outputs": [],
   "source": [
    "# 2.2 Import arima module\n",
    "import pmdarima as pm"
   ]
  },
  {
   "cell_type": "markdown",
   "metadata": {},
   "source": [
    "###  2.2 Create an auto-arima model based on Train data "
   ]
  },
  {
   "cell_type": "code",
   "execution_count": 374,
   "metadata": {
    "scrolled": true
   },
   "outputs": [
    {
     "name": "stderr",
     "output_type": "stream",
     "text": [
      "/opt/anaconda/envs/Python3/lib/python3.6/site-packages/statsmodels/base/model.py:568: ConvergenceWarning: Maximum Likelihood optimization failed to converge. Check mle_retvals\n",
      "  \"Check mle_retvals\", ConvergenceWarning)\n"
     ]
    }
   ],
   "source": [
    "ARIMA_model = pm.auto_arima(trainARIMA)"
   ]
  },
  {
   "cell_type": "code",
   "execution_count": 297,
   "metadata": {},
   "outputs": [],
   "source": [
    "forecast = pd.Series(ARIMA_model.predict(len(valdataf)), index = valdataf.index)"
   ]
  },
  {
   "cell_type": "code",
   "execution_count": 298,
   "metadata": {},
   "outputs": [
    {
     "data": {
      "text/plain": [
       "Period\n",
       "2015-12-01    475564.0\n",
       "2016-01-01    475564.0\n",
       "2016-02-01    475564.0\n",
       "2016-03-01    475564.0\n",
       "2016-04-01    475564.0\n",
       "2016-05-01    475564.0\n",
       "2016-06-01    475564.0\n",
       "2016-07-01    475564.0\n",
       "2016-08-01    475564.0\n",
       "2016-09-01    475564.0\n",
       "2016-10-01    475564.0\n",
       "2016-11-01    475564.0\n",
       "2016-12-01    475564.0\n",
       "2017-01-01    475564.0\n",
       "2017-02-01    475564.0\n",
       "2017-03-01    475564.0\n",
       "2017-04-01    475564.0\n",
       "2017-05-01    475564.0\n",
       "2017-06-01    475564.0\n",
       "2017-07-01    475564.0\n",
       "2017-08-01    475564.0\n",
       "2017-09-01    475564.0\n",
       "2017-10-01    475564.0\n",
       "2017-11-01    475564.0\n",
       "2017-12-01    475564.0\n",
       "2018-01-01    475564.0\n",
       "dtype: float64"
      ]
     },
     "execution_count": 298,
     "metadata": {},
     "output_type": "execute_result"
    }
   ],
   "source": [
    "forecast"
   ]
  },
  {
   "cell_type": "code",
   "execution_count": 376,
   "metadata": {
    "scrolled": true
   },
   "outputs": [
    {
     "data": {
      "text/html": [
       "<div>\n",
       "<style scoped>\n",
       "    .dataframe tbody tr th:only-of-type {\n",
       "        vertical-align: middle;\n",
       "    }\n",
       "\n",
       "    .dataframe tbody tr th {\n",
       "        vertical-align: top;\n",
       "    }\n",
       "\n",
       "    .dataframe thead th {\n",
       "        text-align: right;\n",
       "    }\n",
       "</style>\n",
       "<table border=\"1\" class=\"dataframe\">\n",
       "  <thead>\n",
       "    <tr style=\"text-align: right;\">\n",
       "      <th></th>\n",
       "      <th>Total Emergency Admissions</th>\n",
       "    </tr>\n",
       "    <tr>\n",
       "      <th>Period</th>\n",
       "      <th></th>\n",
       "    </tr>\n",
       "  </thead>\n",
       "  <tbody>\n",
       "    <tr>\n",
       "      <th>2015-07-01</th>\n",
       "      <td>473914</td>\n",
       "    </tr>\n",
       "    <tr>\n",
       "      <th>2015-08-01</th>\n",
       "      <td>455432</td>\n",
       "    </tr>\n",
       "    <tr>\n",
       "      <th>2015-09-01</th>\n",
       "      <td>464195</td>\n",
       "    </tr>\n",
       "    <tr>\n",
       "      <th>2015-10-01</th>\n",
       "      <td>479987</td>\n",
       "    </tr>\n",
       "    <tr>\n",
       "      <th>2015-11-01</th>\n",
       "      <td>475564</td>\n",
       "    </tr>\n",
       "  </tbody>\n",
       "</table>\n",
       "</div>"
      ],
      "text/plain": [
       "            Total Emergency Admissions\n",
       "Period                                \n",
       "2015-07-01                      473914\n",
       "2015-08-01                      455432\n",
       "2015-09-01                      464195\n",
       "2015-10-01                      479987\n",
       "2015-11-01                      475564"
      ]
     },
     "execution_count": 376,
     "metadata": {},
     "output_type": "execute_result"
    }
   ],
   "source": [
    "trainARIMA.tail()"
   ]
  },
  {
   "cell_type": "code",
   "execution_count": 378,
   "metadata": {},
   "outputs": [
    {
     "data": {
      "text/plain": [
       "26"
      ]
     },
     "execution_count": 378,
     "metadata": {},
     "output_type": "execute_result"
    }
   ],
   "source": [
    "len(valdataf)"
   ]
  },
  {
   "cell_type": "code",
   "execution_count": 379,
   "metadata": {},
   "outputs": [
    {
     "data": {
      "text/plain": [
       "pandas.core.frame.DataFrame"
      ]
     },
     "execution_count": 379,
     "metadata": {},
     "output_type": "execute_result"
    }
   ],
   "source": [
    "type(trainARIMA)"
   ]
  },
  {
   "cell_type": "code",
   "execution_count": 381,
   "metadata": {},
   "outputs": [
    {
     "data": {
      "text/plain": [
       "26"
      ]
     },
     "execution_count": 381,
     "metadata": {},
     "output_type": "execute_result"
    }
   ],
   "source": [
    "len(forecast)"
   ]
  },
  {
   "cell_type": "code",
   "execution_count": 380,
   "metadata": {},
   "outputs": [
    {
     "data": {
      "text/plain": [
       "pandas.core.series.Series"
      ]
     },
     "execution_count": 380,
     "metadata": {},
     "output_type": "execute_result"
    }
   ],
   "source": [
    "type(forecast)"
   ]
  },
  {
   "cell_type": "code",
   "execution_count": 449,
   "metadata": {},
   "outputs": [
    {
     "data": {
      "image/png": "[encoded data removed]",
      "text/plain": [
       "<Figure size 720x432 with 1 Axes>"
      ]
     },
     "metadata": {
      "needs_background": "light"
     },
     "output_type": "display_data"
    }
   ],
   "source": [
    "plt.figure(figsize=(10,6))\n",
    "plt.title('Auto ARIMA. Total emergency admissions 2011-2018')\n",
    "plt.plot(trainARIMA, c='blue',label = \"Training dataset\")\n",
    "plt.plot(forecast, c='green',label=\"Training Forecast\")\n",
    "plt.plot(valdataf, label = \"Validation data\")\n",
    "plt.legend()\n",
    "plt.show()\n"
   ]
  },
  {
   "cell_type": "code",
   "execution_count": 208,
   "metadata": {},
   "outputs": [
    {
     "data": {
      "text/plain": [
       "26"
      ]
     },
     "execution_count": 208,
     "metadata": {},
     "output_type": "execute_result"
    }
   ],
   "source": [
    "len(valdataf)"
   ]
  },
  {
   "cell_type": "code",
   "execution_count": 210,
   "metadata": {
    "scrolled": true
   },
   "outputs": [
    {
     "data": {
      "text/plain": [
       "Period\n",
       "2015-12-01   -8079.880564\n",
       "2016-01-01    2893.943234\n",
       "2016-02-01     678.734288\n",
       "2016-03-01     678.734288\n",
       "2016-04-01     678.734288\n",
       "2016-05-01     678.734288\n",
       "2016-06-01     678.734288\n",
       "2016-07-01     678.734288\n",
       "2016-08-01     678.734288\n",
       "2016-09-01     678.734288\n",
       "2016-10-01     678.734288\n",
       "2016-11-01     678.734288\n",
       "2016-12-01     678.734288\n",
       "2017-01-01     678.734288\n",
       "2017-02-01     678.734288\n",
       "2017-03-01     678.734288\n",
       "2017-04-01     678.734288\n",
       "2017-05-01     678.734288\n",
       "2017-06-01     678.734288\n",
       "2017-07-01     678.734288\n",
       "2017-08-01     678.734288\n",
       "2017-09-01     678.734288\n",
       "2017-10-01     678.734288\n",
       "2017-11-01     678.734288\n",
       "2017-12-01     678.734288\n",
       "2018-01-01     678.734288\n",
       "dtype: float64"
      ]
     },
     "execution_count": 210,
     "metadata": {},
     "output_type": "execute_result"
    }
   ],
   "source": [
    "forecast2 = pd.Series(ARIMA_model.predict(len(valdataf)), index = valdataf.index)\n",
    "forecast2\n"
   ]
  },
  {
   "cell_type": "code",
   "execution_count": null,
   "metadata": {},
   "outputs": [],
   "source": [
    "# Question: Why the index doesn't work for the forecasted data, althouth I have used \n",
    "# forecast2 = pd.Series(ARIMA_model.predict(len(valdataf)), index = valdataf.index)\n",
    "# forecast2"
   ]
  },
  {
   "cell_type": "code",
   "execution_count": 368,
   "metadata": {},
   "outputs": [
    {
     "data": {
      "text/plain": [
       "pandas.core.frame.DataFrame"
      ]
     },
     "execution_count": 368,
     "metadata": {},
     "output_type": "execute_result"
    }
   ],
   "source": [
    "type(traindataf)"
   ]
  },
  {
   "cell_type": "code",
   "execution_count": 369,
   "metadata": {},
   "outputs": [
    {
     "data": {
      "text/plain": [
       "pandas.core.frame.DataFrame"
      ]
     },
     "execution_count": 369,
     "metadata": {},
     "output_type": "execute_result"
    }
   ],
   "source": [
    "type(valdataf)"
   ]
  },
  {
   "cell_type": "code",
   "execution_count": 370,
   "metadata": {},
   "outputs": [
    {
     "data": {
      "text/plain": [
       "pandas.core.series.Series"
      ]
     },
     "execution_count": 370,
     "metadata": {},
     "output_type": "execute_result"
    }
   ],
   "source": [
    "type(forecast2)"
   ]
  },
  {
   "cell_type": "code",
   "execution_count": null,
   "metadata": {},
   "outputs": [],
   "source": [
    "ARIMA_model"
   ]
  },
  {
   "cell_type": "code",
   "execution_count": 445,
   "metadata": {},
   "outputs": [
    {
     "data": {
      "image/png": "[encoded data removed]",
      "text/plain": [
       "<Figure size 720x576 with 1 Axes>"
      ]
     },
     "metadata": {
      "needs_background": "light"
     },
     "output_type": "display_data"
    }
   ],
   "source": [
    "plt.figure(figsize=(10,8))\n",
    "plt.title('Train and Validation datasets')\n",
    "plt.plot(trainARIMA, label = \"Train data\")\n",
    "plt.plot(valdataf, label = \"Validation data\")\n",
    "plt.plot(forecast2, label=\"Forecasted Values\")\n",
    "# plt.plot(forecast2, c='green',label=\"Training Forecast\")\n",
    "plt.legend()\n",
    "plt.ylabel(\"value\")\n",
    "plt.xlabel(\"days\")\n",
    "plt.show()\n"
   ]
  },
  {
   "cell_type": "code",
   "execution_count": 403,
   "metadata": {},
   "outputs": [
    {
     "data": {
      "text/plain": [
       "Timestamp('2015-12-01 00:00:00')"
      ]
     },
     "execution_count": 403,
     "metadata": {},
     "output_type": "execute_result"
    }
   ],
   "source": [
    "valdataf.index[0]"
   ]
  },
  {
   "cell_type": "code",
   "execution_count": 404,
   "metadata": {},
   "outputs": [
    {
     "data": {
      "text/plain": [
       "Timestamp('2018-01-01 00:00:00')"
      ]
     },
     "execution_count": 404,
     "metadata": {},
     "output_type": "execute_result"
    }
   ],
   "source": [
    "valdataf.index[-1]"
   ]
  },
  {
   "cell_type": "markdown",
   "metadata": {},
   "source": [
    "### Task 2 - Exponential smoothing"
   ]
  },
  {
   "cell_type": "code",
   "execution_count": 340,
   "metadata": {},
   "outputs": [],
   "source": [
    "# Import module for Exponential smoothing \n",
    "import matplotlib.pyplot as plt\n",
    "from statsmodels.tsa.holtwinters import ExponentialSmoothing"
   ]
  },
  {
   "cell_type": "markdown",
   "metadata": {},
   "source": [
    "#### Task 2 - Exponential smoothing\n",
    "##### Make sure the index of the dataframe is a datetime object in python."
   ]
  },
  {
   "cell_type": "code",
   "execution_count": 341,
   "metadata": {
    "scrolled": true
   },
   "outputs": [
    {
     "data": {
      "text/plain": [
       "DatetimeIndex(['2010-08-01', '2010-09-01', '2010-10-01', '2010-11-01',\n",
       "               '2010-12-01', '2011-01-01', '2011-02-01', '2011-03-01',\n",
       "               '2011-04-01', '2011-05-01',\n",
       "               ...\n",
       "               '2019-10-01', '2019-11-01', '2019-12-01', '2020-01-01',\n",
       "               '2020-02-01', '2020-03-01', '2020-04-01', '2020-05-01',\n",
       "               '2020-06-01', '2020-07-01'],\n",
       "              dtype='datetime64[ns]', name='Period', length=120, freq=None)"
      ]
     },
     "execution_count": 341,
     "metadata": {},
     "output_type": "execute_result"
    }
   ],
   "source": [
    "AEdata.index"
   ]
  },
  {
   "cell_type": "code",
   "execution_count": 342,
   "metadata": {},
   "outputs": [
    {
     "data": {
      "text/plain": [
       "pandas.core.frame.DataFrame"
      ]
     },
     "execution_count": 342,
     "metadata": {},
     "output_type": "execute_result"
    }
   ],
   "source": [
    "type(traindataf)"
   ]
  },
  {
   "cell_type": "code",
   "execution_count": null,
   "metadata": {},
   "outputs": [],
   "source": []
  },
  {
   "cell_type": "code",
   "execution_count": 354,
   "metadata": {
    "scrolled": false
   },
   "outputs": [
    {
     "name": "stderr",
     "output_type": "stream",
     "text": [
      "/opt/anaconda/envs/Python3/lib/python3.6/site-packages/statsmodels/tsa/base/tsa_model.py:162: ValueWarning: No frequency information was provided, so inferred frequency MS will be used.\n",
      "  % freq, ValueWarning)\n"
     ]
    }
   ],
   "source": [
    "# It is fine to use a dataframe as an input for the model (ignore the warining)\n",
    "# Why?\n",
    "model = ExponentialSmoothing((traindataf['Total Emergency Admissions'])\n",
    "                            ,trend='add',seasonal='mul')"
   ]
  },
  {
   "cell_type": "code",
   "execution_count": 356,
   "metadata": {},
   "outputs": [
    {
     "data": {
      "text/plain": [
       "<statsmodels.tsa.holtwinters.ExponentialSmoothing at 0x7f57ccacc6d8>"
      ]
     },
     "execution_count": 356,
     "metadata": {},
     "output_type": "execute_result"
    }
   ],
   "source": [
    "model"
   ]
  },
  {
   "cell_type": "code",
   "execution_count": 357,
   "metadata": {},
   "outputs": [],
   "source": [
    "# USe default\n",
    "# those will be HYPERPARAMETERS\n",
    "#fit1 = model.fit(smoothing_level=.1, smoothing_slope=.01)\n",
    "fit1 = model.fit()"
   ]
  },
  {
   "cell_type": "code",
   "execution_count": 358,
   "metadata": {
    "scrolled": true
   },
   "outputs": [],
   "source": [
    "# Let's predict 30 days in advance\n",
    "# traindaf (64 datapoints)\n",
    "pred1 = fit1.predict(start=65, end=95)\n",
    "\n",
    "# (start)"
   ]
  },
  {
   "cell_type": "code",
   "execution_count": 405,
   "metadata": {},
   "outputs": [],
   "source": [
    "pred2 = fit1.predict(start=valdataf.index[0],\n",
    "                     end=valdataf.index[-1])"
   ]
  },
  {
   "cell_type": "code",
   "execution_count": 410,
   "metadata": {
    "scrolled": false
   },
   "outputs": [
    {
     "data": {
      "text/plain": [
       "26"
      ]
     },
     "execution_count": 410,
     "metadata": {},
     "output_type": "execute_result"
    }
   ],
   "source": [
    "len(pred2)"
   ]
  },
  {
   "cell_type": "code",
   "execution_count": 411,
   "metadata": {},
   "outputs": [],
   "source": [
    "# traindataf.tail()"
   ]
  },
  {
   "cell_type": "code",
   "execution_count": 412,
   "metadata": {
    "scrolled": true
   },
   "outputs": [
    {
     "data": {
      "text/plain": [
       "38"
      ]
     },
     "execution_count": 412,
     "metadata": {},
     "output_type": "execute_result"
    }
   ],
   "source": [
    "len(fit1.predict(len(valdataf)))\n"
   ]
  },
  {
   "cell_type": "code",
   "execution_count": 362,
   "metadata": {},
   "outputs": [
    {
     "data": {
      "text/plain": [
       "26"
      ]
     },
     "execution_count": 362,
     "metadata": {},
     "output_type": "execute_result"
    }
   ],
   "source": [
    "len(valdataf)"
   ]
  },
  {
   "cell_type": "code",
   "execution_count": 413,
   "metadata": {},
   "outputs": [
    {
     "name": "stdout",
     "output_type": "stream",
     "text": [
      "2015-12-01    495242.887314\n",
      "2016-01-01    482508.796227\n",
      "2016-02-01    446433.123198\n",
      "2016-03-01    494692.584319\n",
      "2016-04-01    467116.949303\n",
      "2016-05-01    482192.866195\n",
      "2016-06-01    466480.408767\n",
      "2016-07-01    483048.347351\n",
      "2016-08-01    463034.935041\n",
      "2016-09-01    464552.708913\n",
      "2016-10-01    485735.660000\n",
      "2016-11-01    477285.090193\n",
      "2016-12-01    497773.033339\n",
      "2017-01-01    484972.836019\n",
      "2017-02-01    448711.964660\n",
      "2017-03-01    497216.695045\n",
      "2017-04-01    469499.345603\n",
      "2017-05-01    484651.108097\n",
      "2017-06-01    468857.537930\n",
      "2017-07-01    485508.859902\n",
      "2017-08-01    465392.504160\n",
      "2017-09-01    466917.002704\n",
      "2017-10-01    488206.714252\n",
      "2017-11-01    479712.125453\n",
      "2017-12-01    500303.179364\n",
      "2018-01-01    487436.875811\n",
      "Freq: MS, dtype: float64\n"
     ]
    }
   ],
   "source": [
    "print(pred2)"
   ]
  },
  {
   "cell_type": "code",
   "execution_count": null,
   "metadata": {},
   "outputs": [],
   "source": [
    "# Important (in the above plot I am plotting a pandas dataframe and a pandas series for the predicted values)"
   ]
  },
  {
   "cell_type": "code",
   "execution_count": 365,
   "metadata": {},
   "outputs": [
    {
     "data": {
      "text/plain": [
       "pandas.core.frame.DataFrame"
      ]
     },
     "execution_count": 365,
     "metadata": {},
     "output_type": "execute_result"
    }
   ],
   "source": [
    "type(traindataf)"
   ]
  },
  {
   "cell_type": "code",
   "execution_count": 366,
   "metadata": {},
   "outputs": [
    {
     "data": {
      "text/plain": [
       "pandas.core.series.Series"
      ]
     },
     "execution_count": 366,
     "metadata": {},
     "output_type": "execute_result"
    }
   ],
   "source": [
    "type(pred1)"
   ]
  },
  {
   "cell_type": "code",
   "execution_count": 364,
   "metadata": {
    "scrolled": true
   },
   "outputs": [
    {
     "data": {
      "text/plain": [
       "<Figure size 432x288 with 0 Axes>"
      ]
     },
     "metadata": {},
     "output_type": "display_data"
    },
    {
     "data": {
      "image/png": "[encoded data removed]",
      "text/plain": [
       "<Figure size 432x288 with 1 Axes>"
      ]
     },
     "metadata": {
      "needs_background": "light"
     },
     "output_type": "display_data"
    }
   ],
   "source": [
    "plt.figure(figsize=(6,4))\n",
    "traindataf.plot()\n",
    "plt.title('Exponential Smoothing forecast')\n",
    "pred1.plot()\n",
    "plt.legend()\n",
    "plt.ylabel(\"value\")\n",
    "plt.xlabel(\"days\")\n",
    "plt.show()"
   ]
  },
  {
   "cell_type": "code",
   "execution_count": 444,
   "metadata": {},
   "outputs": [
    {
     "data": {
      "text/plain": [
       "<Figure size 432x288 with 0 Axes>"
      ]
     },
     "metadata": {},
     "output_type": "display_data"
    },
    {
     "data": {
      "image/png": "[encoded data removed]",
      "text/plain": [
       "<Figure size 432x288 with 1 Axes>"
      ]
     },
     "metadata": {
      "needs_background": "light"
     },
     "output_type": "display_data"
    }
   ],
   "source": [
    "plt.figure(figsize=(6,4))\n",
    "traindataf.plot()\n",
    "plt.title('Exponential Smoothing forecast')\n",
    "# plt.plot(valdataf, label = \"Validation data\")\n",
    "pred2.plot()\n",
    "plt.legend()\n",
    "plt.ylabel(\"value\")\n",
    "plt.xlabel(\"days\")\n",
    "plt.show()"
   ]
  },
  {
   "cell_type": "code",
   "execution_count": null,
   "metadata": {},
   "outputs": [],
   "source": [
    "# Solution: turn pred1 into a dataframe. \n",
    "#  pred2 = pd.Series(fit1.predict(len(valdataf)), index = valdataf.index)"
   ]
  },
  {
   "cell_type": "code",
   "execution_count": null,
   "metadata": {},
   "outputs": [],
   "source": []
  },
  {
   "cell_type": "code",
   "execution_count": 390,
   "metadata": {},
   "outputs": [
    {
     "data": {
      "text/plain": [
       "<Figure size 432x288 with 0 Axes>"
      ]
     },
     "metadata": {},
     "output_type": "display_data"
    },
    {
     "data": {
      "image/png": "[encoded data removed]",
      "text/plain": [
       "<Figure size 432x288 with 1 Axes>"
      ]
     },
     "metadata": {
      "needs_background": "light"
     },
     "output_type": "display_data"
    }
   ],
   "source": [
    "plt.figure(figsize=(6,4))\n",
    "traindataf.plot()\n",
    "plt.title('Exponential Smoothing forecast')\n",
    "pred1.plot()\n",
    "plt.legend()\n",
    "plt.show()"
   ]
  },
  {
   "cell_type": "code",
   "execution_count": 415,
   "metadata": {},
   "outputs": [
    {
     "data": {
      "text/plain": [
       "<Figure size 1440x720 with 0 Axes>"
      ]
     },
     "metadata": {},
     "output_type": "display_data"
    },
    {
     "data": {
      "image/png": "[encoded data removed]",
      "text/plain": [
       "<Figure size 432x288 with 1 Axes>"
      ]
     },
     "metadata": {
      "needs_background": "light"
     },
     "output_type": "display_data"
    },
    {
     "data": {
      "image/png": "[encoded data removed]",
      "text/plain": [
       "<Figure size 432x288 with 1 Axes>"
      ]
     },
     "metadata": {
      "needs_background": "light"
     },
     "output_type": "display_data"
    }
   ],
   "source": [
    "# Trainval = traindataf.append(valdataf,ignore_index=True)\n",
    "plt.figure(figsize=(20,10))\n",
    "traindataf.plot()\n",
    "plt.title('Exponential Smoothing forecast')\n",
    "pred1.plot()\n",
    "plt.plot(Trainval, label = \"Train and validation data\")\n",
    "valdataf.plot()\n",
    "plt.plot(valdataf, label = \"Validation data\")\n",
    "plt.legend()\n",
    "plt.ylabel(\"value\")\n",
    "plt.xlabel(\"days\")\n",
    "plt.show()"
   ]
  },
  {
   "cell_type": "code",
   "execution_count": null,
   "metadata": {},
   "outputs": [],
   "source": [
    "valdata"
   ]
  },
  {
   "cell_type": "code",
   "execution_count": 272,
   "metadata": {},
   "outputs": [
    {
     "ename": "ValueError",
     "evalue": "Length of passed values is 38, index implies 26.",
     "output_type": "error",
     "traceback": [
      "\u001b[0;31m---------------------------------------------------------------------------\u001b[0m",
      "\u001b[0;31mValueError\u001b[0m                                Traceback (most recent call last)",
      "\u001b[0;32m<ipython-input-272-32923b24f924>\u001b[0m in \u001b[0;36m<module>\u001b[0;34m\u001b[0m\n\u001b[0;32m----> 1\u001b[0;31m \u001b[0mpred2\u001b[0m \u001b[0;34m=\u001b[0m \u001b[0mpd\u001b[0m\u001b[0;34m.\u001b[0m\u001b[0mSeries\u001b[0m\u001b[0;34m(\u001b[0m\u001b[0mfit1\u001b[0m\u001b[0;34m.\u001b[0m\u001b[0mpredict\u001b[0m\u001b[0;34m(\u001b[0m\u001b[0mlen\u001b[0m\u001b[0;34m(\u001b[0m\u001b[0mvaldataf\u001b[0m\u001b[0;34m)\u001b[0m\u001b[0;34m)\u001b[0m\u001b[0;34m,\u001b[0m \u001b[0mindex\u001b[0m \u001b[0;34m=\u001b[0m \u001b[0mvaldataf\u001b[0m\u001b[0;34m.\u001b[0m\u001b[0mindex\u001b[0m\u001b[0;34m)\u001b[0m\u001b[0;34m\u001b[0m\u001b[0;34m\u001b[0m\u001b[0m\n\u001b[0m\u001b[1;32m      2\u001b[0m \u001b[0mpred2\u001b[0m\u001b[0;34m\u001b[0m\u001b[0;34m\u001b[0m\u001b[0m\n",
      "\u001b[0;32m/opt/anaconda/envs/Python3/lib/python3.6/site-packages/pandas/core/series.py\u001b[0m in \u001b[0;36m__init__\u001b[0;34m(self, data, index, dtype, name, copy, fastpath)\u001b[0m\n\u001b[1;32m    290\u001b[0m                     \u001b[0;32mif\u001b[0m \u001b[0mlen\u001b[0m\u001b[0;34m(\u001b[0m\u001b[0mindex\u001b[0m\u001b[0;34m)\u001b[0m \u001b[0;34m!=\u001b[0m \u001b[0mlen\u001b[0m\u001b[0;34m(\u001b[0m\u001b[0mdata\u001b[0m\u001b[0;34m)\u001b[0m\u001b[0;34m:\u001b[0m\u001b[0;34m\u001b[0m\u001b[0;34m\u001b[0m\u001b[0m\n\u001b[1;32m    291\u001b[0m                         raise ValueError(\n\u001b[0;32m--> 292\u001b[0;31m                             \u001b[0;34mf\"Length of passed values is {len(data)}, \"\u001b[0m\u001b[0;34m\u001b[0m\u001b[0;34m\u001b[0m\u001b[0m\n\u001b[0m\u001b[1;32m    293\u001b[0m                             \u001b[0;34mf\"index implies {len(index)}.\"\u001b[0m\u001b[0;34m\u001b[0m\u001b[0;34m\u001b[0m\u001b[0m\n\u001b[1;32m    294\u001b[0m                         )\n",
      "\u001b[0;31mValueError\u001b[0m: Length of passed values is 38, index implies 26."
     ]
    }
   ],
   "source": [
    "# Question (why this worked in the ARIMA model but not in the Sponential Smoothing?)\n",
    "pred2 = pd.Series(fit1.predict(len(valdataf)), index = valdataf.index)\n",
    "pred2"
   ]
  },
  {
   "cell_type": "markdown",
   "metadata": {},
   "source": [
    "## Task 3 - Manual ARIMA "
   ]
  },
  {
   "cell_type": "code",
   "execution_count": null,
   "metadata": {},
   "outputs": [],
   "source": [
    "3.1 - Stationarity"
   ]
  },
  {
   "cell_type": "markdown",
   "metadata": {},
   "source": [
    "## 3.1.1. Differencing the data "
   ]
  },
  {
   "cell_type": "code",
   "execution_count": null,
   "metadata": {},
   "outputs": [],
   "source": [
    "3.1.1\n",
    "To make your time series stationary try differencing the data.\n",
    "To accomplish this one takes each observed value and subtracts off the previous value. This is exactly what the 'I' in ARIMA does. This is easy to perform using the .diff() function that works on a pandas Series. Note that in general you may have to take more than one diff to get a stationary time series.\n",
    "To check results one can plot the resulting transformed time series and look if it seems stationary. Do this for both the differenced and original time series. Note - you may find that your data is already stationary and a differencing is not needed!\n"
   ]
  },
  {
   "cell_type": "code",
   "execution_count": 273,
   "metadata": {},
   "outputs": [
    {
     "data": {
      "text/html": [
       "<div>\n",
       "<style scoped>\n",
       "    .dataframe tbody tr th:only-of-type {\n",
       "        vertical-align: middle;\n",
       "    }\n",
       "\n",
       "    .dataframe tbody tr th {\n",
       "        vertical-align: top;\n",
       "    }\n",
       "\n",
       "    .dataframe thead th {\n",
       "        text-align: right;\n",
       "    }\n",
       "</style>\n",
       "<table border=\"1\" class=\"dataframe\">\n",
       "  <thead>\n",
       "    <tr style=\"text-align: right;\">\n",
       "      <th></th>\n",
       "      <th>Total Emergency Admissions</th>\n",
       "    </tr>\n",
       "    <tr>\n",
       "      <th>Period</th>\n",
       "      <th></th>\n",
       "    </tr>\n",
       "  </thead>\n",
       "  <tbody>\n",
       "    <tr>\n",
       "      <th>2010-08-01</th>\n",
       "      <td>425702</td>\n",
       "    </tr>\n",
       "    <tr>\n",
       "      <th>2010-09-01</th>\n",
       "      <td>424900</td>\n",
       "    </tr>\n",
       "    <tr>\n",
       "      <th>2010-10-01</th>\n",
       "      <td>436215</td>\n",
       "    </tr>\n",
       "    <tr>\n",
       "      <th>2010-11-01</th>\n",
       "      <td>429099</td>\n",
       "    </tr>\n",
       "    <tr>\n",
       "      <th>2010-12-01</th>\n",
       "      <td>452728</td>\n",
       "    </tr>\n",
       "  </tbody>\n",
       "</table>\n",
       "</div>"
      ],
      "text/plain": [
       "            Total Emergency Admissions\n",
       "Period                                \n",
       "2010-08-01                      425702\n",
       "2010-09-01                      424900\n",
       "2010-10-01                      436215\n",
       "2010-11-01                      429099\n",
       "2010-12-01                      452728"
      ]
     },
     "execution_count": 273,
     "metadata": {},
     "output_type": "execute_result"
    }
   ],
   "source": [
    "traindataf.head()"
   ]
  },
  {
   "cell_type": "code",
   "execution_count": 275,
   "metadata": {},
   "outputs": [
    {
     "data": {
      "text/html": [
       "<div>\n",
       "<style scoped>\n",
       "    .dataframe tbody tr th:only-of-type {\n",
       "        vertical-align: middle;\n",
       "    }\n",
       "\n",
       "    .dataframe tbody tr th {\n",
       "        vertical-align: top;\n",
       "    }\n",
       "\n",
       "    .dataframe thead th {\n",
       "        text-align: right;\n",
       "    }\n",
       "</style>\n",
       "<table border=\"1\" class=\"dataframe\">\n",
       "  <thead>\n",
       "    <tr style=\"text-align: right;\">\n",
       "      <th></th>\n",
       "      <th>Emadmissions</th>\n",
       "    </tr>\n",
       "    <tr>\n",
       "      <th>Period</th>\n",
       "      <th></th>\n",
       "    </tr>\n",
       "  </thead>\n",
       "  <tbody>\n",
       "    <tr>\n",
       "      <th>2010-08-01</th>\n",
       "      <td>425702</td>\n",
       "    </tr>\n",
       "    <tr>\n",
       "      <th>2010-09-01</th>\n",
       "      <td>424900</td>\n",
       "    </tr>\n",
       "    <tr>\n",
       "      <th>2010-10-01</th>\n",
       "      <td>436215</td>\n",
       "    </tr>\n",
       "    <tr>\n",
       "      <th>2010-11-01</th>\n",
       "      <td>429099</td>\n",
       "    </tr>\n",
       "    <tr>\n",
       "      <th>2010-12-01</th>\n",
       "      <td>452728</td>\n",
       "    </tr>\n",
       "    <tr>\n",
       "      <th>...</th>\n",
       "      <td>...</td>\n",
       "    </tr>\n",
       "    <tr>\n",
       "      <th>2015-07-01</th>\n",
       "      <td>473914</td>\n",
       "    </tr>\n",
       "    <tr>\n",
       "      <th>2015-08-01</th>\n",
       "      <td>455432</td>\n",
       "    </tr>\n",
       "    <tr>\n",
       "      <th>2015-09-01</th>\n",
       "      <td>464195</td>\n",
       "    </tr>\n",
       "    <tr>\n",
       "      <th>2015-10-01</th>\n",
       "      <td>479987</td>\n",
       "    </tr>\n",
       "    <tr>\n",
       "      <th>2015-11-01</th>\n",
       "      <td>475564</td>\n",
       "    </tr>\n",
       "  </tbody>\n",
       "</table>\n",
       "<p>64 rows × 1 columns</p>\n",
       "</div>"
      ],
      "text/plain": [
       "            Emadmissions\n",
       "Period                  \n",
       "2010-08-01        425702\n",
       "2010-09-01        424900\n",
       "2010-10-01        436215\n",
       "2010-11-01        429099\n",
       "2010-12-01        452728\n",
       "...                  ...\n",
       "2015-07-01        473914\n",
       "2015-08-01        455432\n",
       "2015-09-01        464195\n",
       "2015-10-01        479987\n",
       "2015-11-01        475564\n",
       "\n",
       "[64 rows x 1 columns]"
      ]
     },
     "execution_count": 275,
     "metadata": {},
     "output_type": "execute_result"
    }
   ],
   "source": [
    "traindataf.rename(columns={'Total Emergency Admissions':'Emadmissions'})"
   ]
  },
  {
   "cell_type": "code",
   "execution_count": 276,
   "metadata": {},
   "outputs": [],
   "source": [
    "# .dropna() Use the dropna() in the diff() data step as this is the step that was producing the null values \n",
    "Diff_01 = traindataf.diff().dropna()"
   ]
  },
  {
   "cell_type": "code",
   "execution_count": 277,
   "metadata": {},
   "outputs": [
    {
     "data": {
      "text/plain": [
       "<matplotlib.axes._subplots.AxesSubplot at 0x7f57ccd76cf8>"
      ]
     },
     "execution_count": 277,
     "metadata": {},
     "output_type": "execute_result"
    },
    {
     "data": {
      "image/png": "[encoded data removed]",
      "text/plain": [
       "<Figure size 432x288 with 1 Axes>"
      ]
     },
     "metadata": {
      "needs_background": "light"
     },
     "output_type": "display_data"
    }
   ],
   "source": [
    "Diff_01.plot()"
   ]
  },
  {
   "cell_type": "code",
   "execution_count": 278,
   "metadata": {},
   "outputs": [
    {
     "data": {
      "text/plain": [
       "<matplotlib.axes._subplots.AxesSubplot at 0x7f57c9ee6f60>"
      ]
     },
     "execution_count": 278,
     "metadata": {},
     "output_type": "execute_result"
    },
    {
     "data": {
      "image/png": "[encoded data removed]",
      "text/plain": [
       "<Figure size 432x288 with 1 Axes>"
      ]
     },
     "metadata": {
      "needs_background": "light"
     },
     "output_type": "display_data"
    }
   ],
   "source": [
    "traindataf.plot()"
   ]
  },
  {
   "cell_type": "markdown",
   "metadata": {},
   "source": [
    "# 3.1.2 For a more statistical approach, apply the Augmented Dickey Fuller test (ADF Test) to check for stationarity"
   ]
  },
  {
   "cell_type": "code",
   "execution_count": 280,
   "metadata": {},
   "outputs": [
    {
     "name": "stdout",
     "output_type": "stream",
     "text": [
      "pvalue: 0.04279817391848771\n"
     ]
    }
   ],
   "source": [
    "from statsmodels.tsa.stattools import adfuller\n",
    "X = Diff_01\n",
    "result = adfuller(X)\n",
    "print(f'pvalue: {result[1]}')\n"
   ]
  },
  {
   "cell_type": "markdown",
   "metadata": {},
   "source": [
    "### Interpretation, as the Dickey-Filler test shows p-value < 0.05 then we reject null hypothesis (data is not stationary), so the data IS STATIONARY on the first difference"
   ]
  },
  {
   "cell_type": "markdown",
   "metadata": {},
   "source": [
    "## Task 4 - Auto (S)ARIMA in python"
   ]
  },
  {
   "cell_type": "code",
   "execution_count": 282,
   "metadata": {},
   "outputs": [],
   "source": [
    "import pmdarima as pm\n",
    "#ARIMA_model = pm.auto_arima(Diff_01)\n",
    "#forecast = pd.Series(ARIMA_model.predict(len(valdataf)), index = valdataf.index)\n"
   ]
  },
  {
   "cell_type": "code",
   "execution_count": 284,
   "metadata": {},
   "outputs": [
    {
     "data": {
      "text/plain": [
       "<matplotlib.axes._subplots.AxesSubplot at 0x7f57ccb24a20>"
      ]
     },
     "execution_count": 284,
     "metadata": {},
     "output_type": "execute_result"
    },
    {
     "data": {
      "image/png": "[encoded data removed]",
      "text/plain": [
       "<Figure size 432x288 with 1 Axes>"
      ]
     },
     "metadata": {
      "needs_background": "light"
     },
     "output_type": "display_data"
    }
   ],
   "source": [
    "Diff_01.plot()"
   ]
  },
  {
   "cell_type": "code",
   "execution_count": 401,
   "metadata": {},
   "outputs": [
    {
     "data": {
      "text/plain": [
       "pandas.core.frame.DataFrame"
      ]
     },
     "execution_count": 401,
     "metadata": {},
     "output_type": "execute_result"
    }
   ],
   "source": [
    "type(trainARIMA)"
   ]
  },
  {
   "cell_type": "code",
   "execution_count": 397,
   "metadata": {
    "scrolled": true
   },
   "outputs": [
    {
     "name": "stderr",
     "output_type": "stream",
     "text": [
      "/opt/anaconda/envs/Python3/lib/python3.6/site-packages/statsmodels/tsa/statespace/sarimax.py:1006: UserWarning: Non-invertible starting seasonal moving average Using zeros as starting parameters.\n",
      "  warn('Non-invertible starting seasonal moving average'\n",
      "/opt/anaconda/envs/Python3/lib/python3.6/site-packages/statsmodels/base/model.py:568: ConvergenceWarning: Maximum Likelihood optimization failed to converge. Check mle_retvals\n",
      "  \"Check mle_retvals\", ConvergenceWarning)\n",
      "/opt/anaconda/envs/Python3/lib/python3.6/site-packages/statsmodels/tsa/statespace/sarimax.py:1006: UserWarning: Non-invertible starting seasonal moving average Using zeros as starting parameters.\n",
      "  warn('Non-invertible starting seasonal moving average'\n",
      "/opt/anaconda/envs/Python3/lib/python3.6/site-packages/statsmodels/tsa/statespace/sarimax.py:994: UserWarning: Non-stationary starting seasonal autoregressive Using zeros as starting parameters.\n",
      "  warn('Non-stationary starting seasonal autoregressive'\n",
      "/opt/anaconda/envs/Python3/lib/python3.6/site-packages/statsmodels/tsa/statespace/sarimax.py:994: UserWarning: Non-stationary starting seasonal autoregressive Using zeros as starting parameters.\n",
      "  warn('Non-stationary starting seasonal autoregressive'\n",
      "/opt/anaconda/envs/Python3/lib/python3.6/site-packages/statsmodels/tsa/statespace/sarimax.py:1006: UserWarning: Non-invertible starting seasonal moving average Using zeros as starting parameters.\n",
      "  warn('Non-invertible starting seasonal moving average'\n",
      "/opt/anaconda/envs/Python3/lib/python3.6/site-packages/statsmodels/tsa/statespace/sarimax.py:1006: UserWarning: Non-invertible starting seasonal moving average Using zeros as starting parameters.\n",
      "  warn('Non-invertible starting seasonal moving average'\n",
      "/opt/anaconda/envs/Python3/lib/python3.6/site-packages/statsmodels/tsa/statespace/sarimax.py:868: UserWarning: Too few observations to estimate starting parameters for seasonal ARMA. All parameters except for variances will be set to zeros.\n",
      "  ' zeros.' % warning_description)\n",
      "/opt/anaconda/envs/Python3/lib/python3.6/site-packages/statsmodels/tsa/statespace/sarimax.py:868: UserWarning: Too few observations to estimate starting parameters for seasonal ARMA. All parameters except for variances will be set to zeros.\n",
      "  ' zeros.' % warning_description)\n",
      "/opt/anaconda/envs/Python3/lib/python3.6/site-packages/statsmodels/tsa/statespace/sarimax.py:868: UserWarning: Too few observations to estimate starting parameters for seasonal ARMA. All parameters except for variances will be set to zeros.\n",
      "  ' zeros.' % warning_description)\n",
      "/opt/anaconda/envs/Python3/lib/python3.6/site-packages/statsmodels/base/model.py:568: ConvergenceWarning: Maximum Likelihood optimization failed to converge. Check mle_retvals\n",
      "  \"Check mle_retvals\", ConvergenceWarning)\n",
      "/opt/anaconda/envs/Python3/lib/python3.6/site-packages/statsmodels/tsa/statespace/sarimax.py:1006: UserWarning: Non-invertible starting seasonal moving average Using zeros as starting parameters.\n",
      "  warn('Non-invertible starting seasonal moving average'\n",
      "/opt/anaconda/envs/Python3/lib/python3.6/site-packages/statsmodels/base/model.py:568: ConvergenceWarning: Maximum Likelihood optimization failed to converge. Check mle_retvals\n",
      "  \"Check mle_retvals\", ConvergenceWarning)\n",
      "/opt/anaconda/envs/Python3/lib/python3.6/site-packages/statsmodels/tsa/statespace/sarimax.py:1006: UserWarning: Non-invertible starting seasonal moving average Using zeros as starting parameters.\n",
      "  warn('Non-invertible starting seasonal moving average'\n",
      "/opt/anaconda/envs/Python3/lib/python3.6/site-packages/statsmodels/tsa/statespace/sarimax.py:1006: UserWarning: Non-invertible starting seasonal moving average Using zeros as starting parameters.\n",
      "  warn('Non-invertible starting seasonal moving average'\n",
      "/opt/anaconda/envs/Python3/lib/python3.6/site-packages/statsmodels/base/model.py:568: ConvergenceWarning: Maximum Likelihood optimization failed to converge. Check mle_retvals\n",
      "  \"Check mle_retvals\", ConvergenceWarning)\n",
      "/opt/anaconda/envs/Python3/lib/python3.6/site-packages/statsmodels/tsa/statespace/sarimax.py:1006: UserWarning: Non-invertible starting seasonal moving average Using zeros as starting parameters.\n",
      "  warn('Non-invertible starting seasonal moving average'\n"
     ]
    }
   ],
   "source": [
    "# SARIMA model\n",
    "SARIMA_model = pm.auto_arima(trainARIMA,m=12,seasonal=True)"
   ]
  },
  {
   "cell_type": "code",
   "execution_count": 398,
   "metadata": {
    "scrolled": false
   },
   "outputs": [],
   "source": [
    "forecastSARIMA = pd.Series(SARIMA_model.predict(len(valdataf)), index = valdataf.index)"
   ]
  },
  {
   "cell_type": "code",
   "execution_count": 402,
   "metadata": {},
   "outputs": [
    {
     "data": {
      "text/plain": [
       "26"
      ]
     },
     "execution_count": 402,
     "metadata": {},
     "output_type": "execute_result"
    }
   ],
   "source": [
    "len(valdataf)"
   ]
  },
  {
   "cell_type": "code",
   "execution_count": 400,
   "metadata": {},
   "outputs": [
    {
     "data": {
      "image/png": "[encoded data removed]",
      "text/plain": [
       "<Figure size 432x288 with 1 Axes>"
      ]
     },
     "metadata": {
      "needs_background": "light"
     },
     "output_type": "display_data"
    }
   ],
   "source": [
    "plt.figure(figsize=(6,4))\n",
    "plt.plot(trainARIMA, c='blue',label = \"Training dataset\")\n",
    "plt.plot(forecastSARIMA, c='green',label=\"Training Forecast SARIMA\")\n",
    "plt.legend()\n",
    "plt.show()\n"
   ]
  },
  {
   "cell_type": "code",
   "execution_count": null,
   "metadata": {},
   "outputs": [],
   "source": []
  },
  {
   "cell_type": "code",
   "execution_count": null,
   "metadata": {},
   "outputs": [],
   "source": []
  },
  {
   "cell_type": "code",
   "execution_count": null,
   "metadata": {},
   "outputs": [],
   "source": []
  },
  {
   "cell_type": "code",
   "execution_count": null,
   "metadata": {},
   "outputs": [],
   "source": []
  }
 ],
 "metadata": {
  "kernelspec": {
   "display_name": "Python [conda env:Python3]",
   "language": "python",
   "name": "conda-env-Python3-py"
  },
  "language_info": {
   "codemirror_mode": {
    "name": "ipython",
    "version": 3
   },
   "file_extension": ".py",
   "mimetype": "text/x-python",
   "name": "python",
   "nbconvert_exporter": "python",
   "pygments_lexer": "ipython3",
   "version": "3.6.10"
  }
 },
 "nbformat": 4,
 "nbformat_minor": 2
}
