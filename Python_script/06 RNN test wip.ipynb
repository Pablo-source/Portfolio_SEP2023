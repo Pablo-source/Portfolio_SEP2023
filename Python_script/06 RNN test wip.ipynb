{
 "cells": [
  {
   "cell_type": "code",
   "execution_count": 2,
   "metadata": {},
   "outputs": [],
   "source": [
    "import numpy as np\n",
    "import pandas as pd\n",
    "import matplotlib.pyplot as plt\n",
    "%matplotlib inline"
   ]
  },
  {
   "cell_type": "code",
   "execution_count": 3,
   "metadata": {},
   "outputs": [],
   "source": [
    "AEdata = pd.read_csv(\"cleaned_AE_data.csv\")"
   ]
  },
  {
   "cell_type": "code",
   "execution_count": 4,
   "metadata": {},
   "outputs": [],
   "source": [
    "AEdata['Period'] = pd.to_datetime(AEdata['Period'])"
   ]
  },
  {
   "cell_type": "code",
   "execution_count": 5,
   "metadata": {},
   "outputs": [],
   "source": [
    "AEdata = AEdata.set_index('Period')"
   ]
  },
  {
   "cell_type": "code",
   "execution_count": 7,
   "metadata": {},
   "outputs": [],
   "source": [
    "Emergency_admissions = AEdata['Total Emergency Admissions']"
   ]
  },
  {
   "cell_type": "markdown",
   "metadata": {},
   "source": [
    "## 1. Split main dataset into Train Validation and Hold subsets of data\n",
    "## Train (70%, 84), Validation (20%, 24), Hold (10%, 12). Total rows 120"
   ]
  },
  {
   "cell_type": "code",
   "execution_count": 8,
   "metadata": {},
   "outputs": [],
   "source": [
    "# Training dataset (70%, 84)\n",
    "traindata = Emergency_admissions.iloc[0:84]"
   ]
  },
  {
   "cell_type": "code",
   "execution_count": 9,
   "metadata": {},
   "outputs": [],
   "source": [
    "# Validation dataset (20%, 24)\n",
    "valdata = Emergency_admissions.iloc[83:108]"
   ]
  },
  {
   "cell_type": "code",
   "execution_count": 10,
   "metadata": {},
   "outputs": [],
   "source": [
    "# Hold dataset (10%, 12)\n",
    "hold = Emergency_admissions[107:115]"
   ]
  },
  {
   "cell_type": "code",
   "execution_count": 11,
   "metadata": {},
   "outputs": [],
   "source": [
    "traindataf = traindata.to_frame().apply(np.int64)"
   ]
  },
  {
   "cell_type": "code",
   "execution_count": 12,
   "metadata": {},
   "outputs": [
    {
     "data": {
      "text/html": [
       "<div>\n",
       "<style scoped>\n",
       "    .dataframe tbody tr th:only-of-type {\n",
       "        vertical-align: middle;\n",
       "    }\n",
       "\n",
       "    .dataframe tbody tr th {\n",
       "        vertical-align: top;\n",
       "    }\n",
       "\n",
       "    .dataframe thead th {\n",
       "        text-align: right;\n",
       "    }\n",
       "</style>\n",
       "<table border=\"1\" class=\"dataframe\">\n",
       "  <thead>\n",
       "    <tr style=\"text-align: right;\">\n",
       "      <th></th>\n",
       "      <th>Emadmissions</th>\n",
       "    </tr>\n",
       "    <tr>\n",
       "      <th>Period</th>\n",
       "      <th></th>\n",
       "    </tr>\n",
       "  </thead>\n",
       "  <tbody>\n",
       "    <tr>\n",
       "      <th>2010-08-01</th>\n",
       "      <td>425702</td>\n",
       "    </tr>\n",
       "    <tr>\n",
       "      <th>2010-09-01</th>\n",
       "      <td>424900</td>\n",
       "    </tr>\n",
       "    <tr>\n",
       "      <th>2010-10-01</th>\n",
       "      <td>436215</td>\n",
       "    </tr>\n",
       "    <tr>\n",
       "      <th>2010-11-01</th>\n",
       "      <td>429099</td>\n",
       "    </tr>\n",
       "    <tr>\n",
       "      <th>2010-12-01</th>\n",
       "      <td>452728</td>\n",
       "    </tr>\n",
       "    <tr>\n",
       "      <th>...</th>\n",
       "      <td>...</td>\n",
       "    </tr>\n",
       "    <tr>\n",
       "      <th>2017-03-01</th>\n",
       "      <td>509805</td>\n",
       "    </tr>\n",
       "    <tr>\n",
       "      <th>2017-04-01</th>\n",
       "      <td>471328</td>\n",
       "    </tr>\n",
       "    <tr>\n",
       "      <th>2017-05-01</th>\n",
       "      <td>505843</td>\n",
       "    </tr>\n",
       "    <tr>\n",
       "      <th>2017-06-01</th>\n",
       "      <td>491206</td>\n",
       "    </tr>\n",
       "    <tr>\n",
       "      <th>2017-07-01</th>\n",
       "      <td>499259</td>\n",
       "    </tr>\n",
       "  </tbody>\n",
       "</table>\n",
       "<p>84 rows × 1 columns</p>\n",
       "</div>"
      ],
      "text/plain": [
       "            Emadmissions\n",
       "Period                  \n",
       "2010-08-01        425702\n",
       "2010-09-01        424900\n",
       "2010-10-01        436215\n",
       "2010-11-01        429099\n",
       "2010-12-01        452728\n",
       "...                  ...\n",
       "2017-03-01        509805\n",
       "2017-04-01        471328\n",
       "2017-05-01        505843\n",
       "2017-06-01        491206\n",
       "2017-07-01        499259\n",
       "\n",
       "[84 rows x 1 columns]"
      ]
     },
     "execution_count": 12,
     "metadata": {},
     "output_type": "execute_result"
    }
   ],
   "source": [
    "# Renmae variable now as a dataframe\n",
    "traindataf.rename(columns={'Total Emergency Admissions':'Emadmissions'})"
   ]
  },
  {
   "cell_type": "code",
   "execution_count": 13,
   "metadata": {},
   "outputs": [],
   "source": [
    "valdataf = valdata.to_frame().apply(np.int64)"
   ]
  },
  {
   "cell_type": "code",
   "execution_count": 14,
   "metadata": {},
   "outputs": [
    {
     "data": {
      "text/html": [
       "<div>\n",
       "<style scoped>\n",
       "    .dataframe tbody tr th:only-of-type {\n",
       "        vertical-align: middle;\n",
       "    }\n",
       "\n",
       "    .dataframe tbody tr th {\n",
       "        vertical-align: top;\n",
       "    }\n",
       "\n",
       "    .dataframe thead th {\n",
       "        text-align: right;\n",
       "    }\n",
       "</style>\n",
       "<table border=\"1\" class=\"dataframe\">\n",
       "  <thead>\n",
       "    <tr style=\"text-align: right;\">\n",
       "      <th></th>\n",
       "      <th>Emadmissions</th>\n",
       "    </tr>\n",
       "    <tr>\n",
       "      <th>Period</th>\n",
       "      <th></th>\n",
       "    </tr>\n",
       "  </thead>\n",
       "  <tbody>\n",
       "    <tr>\n",
       "      <th>2017-07-01</th>\n",
       "      <td>499259</td>\n",
       "    </tr>\n",
       "    <tr>\n",
       "      <th>2017-08-01</th>\n",
       "      <td>486074</td>\n",
       "    </tr>\n",
       "    <tr>\n",
       "      <th>2017-09-01</th>\n",
       "      <td>486799</td>\n",
       "    </tr>\n",
       "    <tr>\n",
       "      <th>2017-10-01</th>\n",
       "      <td>513217</td>\n",
       "    </tr>\n",
       "    <tr>\n",
       "      <th>2017-11-01</th>\n",
       "      <td>513019</td>\n",
       "    </tr>\n",
       "    <tr>\n",
       "      <th>2017-12-01</th>\n",
       "      <td>520803</td>\n",
       "    </tr>\n",
       "    <tr>\n",
       "      <th>2018-01-01</th>\n",
       "      <td>526045</td>\n",
       "    </tr>\n",
       "    <tr>\n",
       "      <th>2018-02-01</th>\n",
       "      <td>476867</td>\n",
       "    </tr>\n",
       "    <tr>\n",
       "      <th>2018-03-01</th>\n",
       "      <td>526066</td>\n",
       "    </tr>\n",
       "    <tr>\n",
       "      <th>2018-04-01</th>\n",
       "      <td>503393</td>\n",
       "    </tr>\n",
       "    <tr>\n",
       "      <th>2018-05-01</th>\n",
       "      <td>533457</td>\n",
       "    </tr>\n",
       "    <tr>\n",
       "      <th>2018-06-01</th>\n",
       "      <td>513254</td>\n",
       "    </tr>\n",
       "    <tr>\n",
       "      <th>2018-07-01</th>\n",
       "      <td>529932</td>\n",
       "    </tr>\n",
       "    <tr>\n",
       "      <th>2018-08-01</th>\n",
       "      <td>517299</td>\n",
       "    </tr>\n",
       "    <tr>\n",
       "      <th>2018-09-01</th>\n",
       "      <td>510322</td>\n",
       "    </tr>\n",
       "    <tr>\n",
       "      <th>2018-10-01</th>\n",
       "      <td>546022</td>\n",
       "    </tr>\n",
       "    <tr>\n",
       "      <th>2018-11-01</th>\n",
       "      <td>545357</td>\n",
       "    </tr>\n",
       "    <tr>\n",
       "      <th>2018-12-01</th>\n",
       "      <td>544903</td>\n",
       "    </tr>\n",
       "    <tr>\n",
       "      <th>2019-01-01</th>\n",
       "      <td>564035</td>\n",
       "    </tr>\n",
       "    <tr>\n",
       "      <th>2019-02-01</th>\n",
       "      <td>505722</td>\n",
       "    </tr>\n",
       "    <tr>\n",
       "      <th>2019-03-01</th>\n",
       "      <td>555457</td>\n",
       "    </tr>\n",
       "    <tr>\n",
       "      <th>2019-04-01</th>\n",
       "      <td>535226</td>\n",
       "    </tr>\n",
       "    <tr>\n",
       "      <th>2019-05-01</th>\n",
       "      <td>547382</td>\n",
       "    </tr>\n",
       "    <tr>\n",
       "      <th>2019-06-01</th>\n",
       "      <td>528801</td>\n",
       "    </tr>\n",
       "    <tr>\n",
       "      <th>2019-07-01</th>\n",
       "      <td>554069</td>\n",
       "    </tr>\n",
       "  </tbody>\n",
       "</table>\n",
       "</div>"
      ],
      "text/plain": [
       "            Emadmissions\n",
       "Period                  \n",
       "2017-07-01        499259\n",
       "2017-08-01        486074\n",
       "2017-09-01        486799\n",
       "2017-10-01        513217\n",
       "2017-11-01        513019\n",
       "2017-12-01        520803\n",
       "2018-01-01        526045\n",
       "2018-02-01        476867\n",
       "2018-03-01        526066\n",
       "2018-04-01        503393\n",
       "2018-05-01        533457\n",
       "2018-06-01        513254\n",
       "2018-07-01        529932\n",
       "2018-08-01        517299\n",
       "2018-09-01        510322\n",
       "2018-10-01        546022\n",
       "2018-11-01        545357\n",
       "2018-12-01        544903\n",
       "2019-01-01        564035\n",
       "2019-02-01        505722\n",
       "2019-03-01        555457\n",
       "2019-04-01        535226\n",
       "2019-05-01        547382\n",
       "2019-06-01        528801\n",
       "2019-07-01        554069"
      ]
     },
     "execution_count": 14,
     "metadata": {},
     "output_type": "execute_result"
    }
   ],
   "source": [
    "valdataf.rename(columns={'Total Emergency Admissions':'Emadmissions'})"
   ]
  },
  {
   "cell_type": "code",
   "execution_count": null,
   "metadata": {},
   "outputs": [],
   "source": []
  },
  {
   "cell_type": "markdown",
   "metadata": {},
   "source": [
    "###  4.3 Build Target and Features datasets based on Traindata_scaled dataset "
   ]
  },
  {
   "cell_type": "markdown",
   "metadata": {},
   "source": [
    "#### 1-2 Target dataset "
   ]
  },
  {
   "cell_type": "code",
   "execution_count": 20,
   "metadata": {},
   "outputs": [],
   "source": [
    "#### 1-2 Target dataset "
   ]
  },
  {
   "cell_type": "code",
   "execution_count": 21,
   "metadata": {},
   "outputs": [],
   "source": [
    "Y_train = traindata.iloc[5:,]"
   ]
  },
  {
   "cell_type": "code",
   "execution_count": 27,
   "metadata": {},
   "outputs": [
    {
     "data": {
      "text/plain": [
       "Period\n",
       "2011-01-01    442003.714286\n",
       "2011-02-01    401206.428571\n",
       "2011-03-01    446845.571429\n",
       "2011-04-01    419243.285714\n",
       "2011-05-01    427276.571429\n",
       "Name: Total Emergency Admissions, dtype: float64"
      ]
     },
     "execution_count": 27,
     "metadata": {},
     "output_type": "execute_result"
    }
   ],
   "source": [
    "Y_train.head()"
   ]
  },
  {
   "cell_type": "code",
   "execution_count": 22,
   "metadata": {},
   "outputs": [],
   "source": [
    "#### 2-2 Features dataset from Traindata_scaled dataset "
   ]
  },
  {
   "cell_type": "code",
   "execution_count": 23,
   "metadata": {},
   "outputs": [],
   "source": [
    "total_lags = 5"
   ]
  },
  {
   "cell_type": "code",
   "execution_count": 24,
   "metadata": {},
   "outputs": [],
   "source": [
    "def get_features(data,total_lags):\n",
    "    col_list=[]\n",
    "    for time_lag in range(total_lags):\n",
    "        Lag_i = pd.DataFrame(data.shift(time_lag+1,axis=0,fill_value=0))\n",
    "        col_list.append(Lag_i)\n",
    "    features_array = pd.concat(col_list,axis=1)\n",
    "    trunc_dataset = features_array.iloc[total_lags:]\n",
    "    return trunc_dataset"
   ]
  },
  {
   "cell_type": "code",
   "execution_count": 25,
   "metadata": {},
   "outputs": [],
   "source": [
    "X_train = get_features(traindata,total_lags)"
   ]
  },
  {
   "cell_type": "code",
   "execution_count": 26,
   "metadata": {},
   "outputs": [
    {
     "data": {
      "text/html": [
       "<div>\n",
       "<style scoped>\n",
       "    .dataframe tbody tr th:only-of-type {\n",
       "        vertical-align: middle;\n",
       "    }\n",
       "\n",
       "    .dataframe tbody tr th {\n",
       "        vertical-align: top;\n",
       "    }\n",
       "\n",
       "    .dataframe thead th {\n",
       "        text-align: right;\n",
       "    }\n",
       "</style>\n",
       "<table border=\"1\" class=\"dataframe\">\n",
       "  <thead>\n",
       "    <tr style=\"text-align: right;\">\n",
       "      <th></th>\n",
       "      <th>Total Emergency Admissions</th>\n",
       "      <th>Total Emergency Admissions</th>\n",
       "      <th>Total Emergency Admissions</th>\n",
       "      <th>Total Emergency Admissions</th>\n",
       "      <th>Total Emergency Admissions</th>\n",
       "    </tr>\n",
       "    <tr>\n",
       "      <th>Period</th>\n",
       "      <th></th>\n",
       "      <th></th>\n",
       "      <th></th>\n",
       "      <th></th>\n",
       "      <th></th>\n",
       "    </tr>\n",
       "  </thead>\n",
       "  <tbody>\n",
       "    <tr>\n",
       "      <th>2011-01-01</th>\n",
       "      <td>452728.714286</td>\n",
       "      <td>429099.000000</td>\n",
       "      <td>436215.000000</td>\n",
       "      <td>424900.000000</td>\n",
       "      <td>425702.000000</td>\n",
       "    </tr>\n",
       "    <tr>\n",
       "      <th>2011-02-01</th>\n",
       "      <td>442003.714286</td>\n",
       "      <td>452728.714286</td>\n",
       "      <td>429099.000000</td>\n",
       "      <td>436215.000000</td>\n",
       "      <td>424900.000000</td>\n",
       "    </tr>\n",
       "    <tr>\n",
       "      <th>2011-03-01</th>\n",
       "      <td>401206.428571</td>\n",
       "      <td>442003.714286</td>\n",
       "      <td>452728.714286</td>\n",
       "      <td>429099.000000</td>\n",
       "      <td>436215.000000</td>\n",
       "    </tr>\n",
       "    <tr>\n",
       "      <th>2011-04-01</th>\n",
       "      <td>446845.571429</td>\n",
       "      <td>401206.428571</td>\n",
       "      <td>442003.714286</td>\n",
       "      <td>452728.714286</td>\n",
       "      <td>429099.000000</td>\n",
       "    </tr>\n",
       "    <tr>\n",
       "      <th>2011-05-01</th>\n",
       "      <td>419243.285714</td>\n",
       "      <td>446845.571429</td>\n",
       "      <td>401206.428571</td>\n",
       "      <td>442003.714286</td>\n",
       "      <td>452728.714286</td>\n",
       "    </tr>\n",
       "    <tr>\n",
       "      <th>...</th>\n",
       "      <td>...</td>\n",
       "      <td>...</td>\n",
       "      <td>...</td>\n",
       "      <td>...</td>\n",
       "      <td>...</td>\n",
       "    </tr>\n",
       "    <tr>\n",
       "      <th>2017-03-01</th>\n",
       "      <td>447688.000000</td>\n",
       "      <td>492273.000000</td>\n",
       "      <td>497915.000000</td>\n",
       "      <td>489326.000000</td>\n",
       "      <td>492983.000000</td>\n",
       "    </tr>\n",
       "    <tr>\n",
       "      <th>2017-04-01</th>\n",
       "      <td>509805.000000</td>\n",
       "      <td>447688.000000</td>\n",
       "      <td>492273.000000</td>\n",
       "      <td>497915.000000</td>\n",
       "      <td>489326.000000</td>\n",
       "    </tr>\n",
       "    <tr>\n",
       "      <th>2017-05-01</th>\n",
       "      <td>471328.000000</td>\n",
       "      <td>509805.000000</td>\n",
       "      <td>447688.000000</td>\n",
       "      <td>492273.000000</td>\n",
       "      <td>497915.000000</td>\n",
       "    </tr>\n",
       "    <tr>\n",
       "      <th>2017-06-01</th>\n",
       "      <td>505843.000000</td>\n",
       "      <td>471328.000000</td>\n",
       "      <td>509805.000000</td>\n",
       "      <td>447688.000000</td>\n",
       "      <td>492273.000000</td>\n",
       "    </tr>\n",
       "    <tr>\n",
       "      <th>2017-07-01</th>\n",
       "      <td>491206.000000</td>\n",
       "      <td>505843.000000</td>\n",
       "      <td>471328.000000</td>\n",
       "      <td>509805.000000</td>\n",
       "      <td>447688.000000</td>\n",
       "    </tr>\n",
       "  </tbody>\n",
       "</table>\n",
       "<p>79 rows × 5 columns</p>\n",
       "</div>"
      ],
      "text/plain": [
       "            Total Emergency Admissions  Total Emergency Admissions  \\\n",
       "Period                                                               \n",
       "2011-01-01               452728.714286               429099.000000   \n",
       "2011-02-01               442003.714286               452728.714286   \n",
       "2011-03-01               401206.428571               442003.714286   \n",
       "2011-04-01               446845.571429               401206.428571   \n",
       "2011-05-01               419243.285714               446845.571429   \n",
       "...                                ...                         ...   \n",
       "2017-03-01               447688.000000               492273.000000   \n",
       "2017-04-01               509805.000000               447688.000000   \n",
       "2017-05-01               471328.000000               509805.000000   \n",
       "2017-06-01               505843.000000               471328.000000   \n",
       "2017-07-01               491206.000000               505843.000000   \n",
       "\n",
       "            Total Emergency Admissions  Total Emergency Admissions  \\\n",
       "Period                                                               \n",
       "2011-01-01               436215.000000               424900.000000   \n",
       "2011-02-01               429099.000000               436215.000000   \n",
       "2011-03-01               452728.714286               429099.000000   \n",
       "2011-04-01               442003.714286               452728.714286   \n",
       "2011-05-01               401206.428571               442003.714286   \n",
       "...                                ...                         ...   \n",
       "2017-03-01               497915.000000               489326.000000   \n",
       "2017-04-01               492273.000000               497915.000000   \n",
       "2017-05-01               447688.000000               492273.000000   \n",
       "2017-06-01               509805.000000               447688.000000   \n",
       "2017-07-01               471328.000000               509805.000000   \n",
       "\n",
       "            Total Emergency Admissions  \n",
       "Period                                  \n",
       "2011-01-01               425702.000000  \n",
       "2011-02-01               424900.000000  \n",
       "2011-03-01               436215.000000  \n",
       "2011-04-01               429099.000000  \n",
       "2011-05-01               452728.714286  \n",
       "...                                ...  \n",
       "2017-03-01               492983.000000  \n",
       "2017-04-01               489326.000000  \n",
       "2017-05-01               497915.000000  \n",
       "2017-06-01               492273.000000  \n",
       "2017-07-01               447688.000000  \n",
       "\n",
       "[79 rows x 5 columns]"
      ]
     },
     "execution_count": 26,
     "metadata": {},
     "output_type": "execute_result"
    }
   ],
   "source": [
    "X_train"
   ]
  },
  {
   "cell_type": "code",
   "execution_count": 59,
   "metadata": {},
   "outputs": [],
   "source": [
    "total_lags = 5"
   ]
  },
  {
   "cell_type": "code",
   "execution_count": 80,
   "metadata": {},
   "outputs": [],
   "source": [
    "\n",
    "lst=[\"a\",\"b\",\"c\",\"d\",\"e\",\"f\"]\n",
    "lst_rev=[]\n",
    "lst_rev.append(lst[::-1])"
   ]
  },
  {
   "cell_type": "code",
   "execution_count": 81,
   "metadata": {},
   "outputs": [
    {
     "data": {
      "text/plain": [
       "['a', 'b', 'c', 'd', 'e', 'f']"
      ]
     },
     "execution_count": 81,
     "metadata": {},
     "output_type": "execute_result"
    }
   ],
   "source": [
    "lst"
   ]
  },
  {
   "cell_type": "code",
   "execution_count": 82,
   "metadata": {},
   "outputs": [
    {
     "data": {
      "text/plain": [
       "[['f', 'e', 'd', 'c', 'b', 'a']]"
      ]
     },
     "execution_count": 82,
     "metadata": {},
     "output_type": "execute_result"
    }
   ],
   "source": [
    "lst_rev"
   ]
  },
  {
   "cell_type": "code",
   "execution_count": null,
   "metadata": {},
   "outputs": [],
   "source": [
    "### As we want to revert the columns the change must be applied on the range() function\n",
    "# "
   ]
  },
  {
   "cell_type": "markdown",
   "metadata": {},
   "source": [
    "## This is the reversed dataframe "
   ]
  },
  {
   "cell_type": "code",
   "execution_count": 102,
   "metadata": {},
   "outputs": [],
   "source": [
    "def get_features(data,total_lags):\n",
    "    col_list=[]\n",
    "    for time_lag in range(total_lags,0, -1):\n",
    "        Lag_i = pd.DataFrame(data.shift(time_lag+1,axis=0,fill_value=0))\n",
    "        col_list.append(Lag_i)\n",
    "        features_array = pd.concat(col_list,axis=1)\n",
    "        trunc_dataset = features_array.iloc[total_lags:]\n",
    "    return trunc_dataset"
   ]
  },
  {
   "cell_type": "code",
   "execution_count": 103,
   "metadata": {},
   "outputs": [],
   "source": [
    "X_train_test = get_features(traindata,total_lags)"
   ]
  },
  {
   "cell_type": "code",
   "execution_count": 106,
   "metadata": {},
   "outputs": [
    {
     "data": {
      "text/plain": [
       "pandas.core.frame.DataFrame"
      ]
     },
     "execution_count": 106,
     "metadata": {},
     "output_type": "execute_result"
    }
   ],
   "source": [
    "type(X_train_test)"
   ]
  },
  {
   "cell_type": "code",
   "execution_count": 108,
   "metadata": {},
   "outputs": [
    {
     "data": {
      "text/html": [
       "<div>\n",
       "<style scoped>\n",
       "    .dataframe tbody tr th:only-of-type {\n",
       "        vertical-align: middle;\n",
       "    }\n",
       "\n",
       "    .dataframe tbody tr th {\n",
       "        vertical-align: top;\n",
       "    }\n",
       "\n",
       "    .dataframe thead th {\n",
       "        text-align: right;\n",
       "    }\n",
       "</style>\n",
       "<table border=\"1\" class=\"dataframe\">\n",
       "  <thead>\n",
       "    <tr style=\"text-align: right;\">\n",
       "      <th></th>\n",
       "      <th>Total Emergency Admissions</th>\n",
       "      <th>Total Emergency Admissions</th>\n",
       "      <th>Total Emergency Admissions</th>\n",
       "      <th>Total Emergency Admissions</th>\n",
       "      <th>Total Emergency Admissions</th>\n",
       "    </tr>\n",
       "    <tr>\n",
       "      <th>Period</th>\n",
       "      <th></th>\n",
       "      <th></th>\n",
       "      <th></th>\n",
       "      <th></th>\n",
       "      <th></th>\n",
       "    </tr>\n",
       "  </thead>\n",
       "  <tbody>\n",
       "    <tr>\n",
       "      <th>2011-01-01</th>\n",
       "      <td>0.000000</td>\n",
       "      <td>425702.000000</td>\n",
       "      <td>424900.000000</td>\n",
       "      <td>436215.000000</td>\n",
       "      <td>429099.000000</td>\n",
       "    </tr>\n",
       "    <tr>\n",
       "      <th>2011-02-01</th>\n",
       "      <td>425702.000000</td>\n",
       "      <td>424900.000000</td>\n",
       "      <td>436215.000000</td>\n",
       "      <td>429099.000000</td>\n",
       "      <td>452728.714286</td>\n",
       "    </tr>\n",
       "    <tr>\n",
       "      <th>2011-03-01</th>\n",
       "      <td>424900.000000</td>\n",
       "      <td>436215.000000</td>\n",
       "      <td>429099.000000</td>\n",
       "      <td>452728.714286</td>\n",
       "      <td>442003.714286</td>\n",
       "    </tr>\n",
       "    <tr>\n",
       "      <th>2011-04-01</th>\n",
       "      <td>436215.000000</td>\n",
       "      <td>429099.000000</td>\n",
       "      <td>452728.714286</td>\n",
       "      <td>442003.714286</td>\n",
       "      <td>401206.428571</td>\n",
       "    </tr>\n",
       "    <tr>\n",
       "      <th>2011-05-01</th>\n",
       "      <td>429099.000000</td>\n",
       "      <td>452728.714286</td>\n",
       "      <td>442003.714286</td>\n",
       "      <td>401206.428571</td>\n",
       "      <td>446845.571429</td>\n",
       "    </tr>\n",
       "    <tr>\n",
       "      <th>2011-06-01</th>\n",
       "      <td>452728.714286</td>\n",
       "      <td>442003.714286</td>\n",
       "      <td>401206.428571</td>\n",
       "      <td>446845.571429</td>\n",
       "      <td>419243.285714</td>\n",
       "    </tr>\n",
       "    <tr>\n",
       "      <th>2011-07-01</th>\n",
       "      <td>442003.714286</td>\n",
       "      <td>401206.428571</td>\n",
       "      <td>446845.571429</td>\n",
       "      <td>419243.285714</td>\n",
       "      <td>427276.571429</td>\n",
       "    </tr>\n",
       "    <tr>\n",
       "      <th>2011-08-01</th>\n",
       "      <td>401206.428571</td>\n",
       "      <td>446845.571429</td>\n",
       "      <td>419243.285714</td>\n",
       "      <td>427276.571429</td>\n",
       "      <td>413320.857143</td>\n",
       "    </tr>\n",
       "    <tr>\n",
       "      <th>2011-09-01</th>\n",
       "      <td>446845.571429</td>\n",
       "      <td>419243.285714</td>\n",
       "      <td>427276.571429</td>\n",
       "      <td>413320.857143</td>\n",
       "      <td>425797.857143</td>\n",
       "    </tr>\n",
       "    <tr>\n",
       "      <th>2011-10-01</th>\n",
       "      <td>419243.285714</td>\n",
       "      <td>427276.571429</td>\n",
       "      <td>413320.857143</td>\n",
       "      <td>425797.857143</td>\n",
       "      <td>410554.285714</td>\n",
       "    </tr>\n",
       "  </tbody>\n",
       "</table>\n",
       "</div>"
      ],
      "text/plain": [
       "            Total Emergency Admissions  Total Emergency Admissions  \\\n",
       "Period                                                               \n",
       "2011-01-01                    0.000000               425702.000000   \n",
       "2011-02-01               425702.000000               424900.000000   \n",
       "2011-03-01               424900.000000               436215.000000   \n",
       "2011-04-01               436215.000000               429099.000000   \n",
       "2011-05-01               429099.000000               452728.714286   \n",
       "2011-06-01               452728.714286               442003.714286   \n",
       "2011-07-01               442003.714286               401206.428571   \n",
       "2011-08-01               401206.428571               446845.571429   \n",
       "2011-09-01               446845.571429               419243.285714   \n",
       "2011-10-01               419243.285714               427276.571429   \n",
       "\n",
       "            Total Emergency Admissions  Total Emergency Admissions  \\\n",
       "Period                                                               \n",
       "2011-01-01               424900.000000               436215.000000   \n",
       "2011-02-01               436215.000000               429099.000000   \n",
       "2011-03-01               429099.000000               452728.714286   \n",
       "2011-04-01               452728.714286               442003.714286   \n",
       "2011-05-01               442003.714286               401206.428571   \n",
       "2011-06-01               401206.428571               446845.571429   \n",
       "2011-07-01               446845.571429               419243.285714   \n",
       "2011-08-01               419243.285714               427276.571429   \n",
       "2011-09-01               427276.571429               413320.857143   \n",
       "2011-10-01               413320.857143               425797.857143   \n",
       "\n",
       "            Total Emergency Admissions  \n",
       "Period                                  \n",
       "2011-01-01               429099.000000  \n",
       "2011-02-01               452728.714286  \n",
       "2011-03-01               442003.714286  \n",
       "2011-04-01               401206.428571  \n",
       "2011-05-01               446845.571429  \n",
       "2011-06-01               419243.285714  \n",
       "2011-07-01               427276.571429  \n",
       "2011-08-01               413320.857143  \n",
       "2011-09-01               425797.857143  \n",
       "2011-10-01               410554.285714  "
      ]
     },
     "execution_count": 108,
     "metadata": {},
     "output_type": "execute_result"
    }
   ],
   "source": [
    "X_train_test[0:10]"
   ]
  },
  {
   "cell_type": "code",
   "execution_count": 111,
   "metadata": {},
   "outputs": [],
   "source": [
    "X_train_array = np.array(X_train_test)"
   ]
  },
  {
   "cell_type": "code",
   "execution_count": 112,
   "metadata": {},
   "outputs": [
    {
     "data": {
      "text/plain": [
       "(79, 5)"
      ]
     },
     "execution_count": 112,
     "metadata": {},
     "output_type": "execute_result"
    }
   ],
   "source": [
    "X_train_array.shape"
   ]
  },
  {
   "cell_type": "code",
   "execution_count": 115,
   "metadata": {},
   "outputs": [
    {
     "data": {
      "text/plain": [
       "(79, 5, 1)"
      ]
     },
     "execution_count": 115,
     "metadata": {},
     "output_type": "execute_result"
    }
   ],
   "source": [
    "## Copy dataset\n",
    "X_train_array[:,:,np.newaxis].shape"
   ]
  },
  {
   "cell_type": "code",
   "execution_count": null,
   "metadata": {},
   "outputs": [],
   "source": [
    "# 75 samples \n",
    "# 5 sequence lags\n",
    "# 1 feature"
   ]
  },
  {
   "cell_type": "code",
   "execution_count": null,
   "metadata": {},
   "outputs": [],
   "source": []
  },
  {
   "cell_type": "code",
   "execution_count": 114,
   "metadata": {},
   "outputs": [
    {
     "data": {
      "text/plain": [
       "(79, 5)"
      ]
     },
     "execution_count": 114,
     "metadata": {},
     "output_type": "execute_result"
    }
   ],
   "source": [
    "a"
   ]
  },
  {
   "cell_type": "markdown",
   "metadata": {},
   "source": [
    "## Do the validation "
   ]
  },
  {
   "cell_type": "code",
   "execution_count": null,
   "metadata": {},
   "outputs": [],
   "source": [
    "#### 2-2 Validation dataset "
   ]
  },
  {
   "cell_type": "code",
   "execution_count": null,
   "metadata": {},
   "outputs": [],
   "source": []
  },
  {
   "cell_type": "code",
   "execution_count": null,
   "metadata": {},
   "outputs": [],
   "source": []
  },
  {
   "cell_type": "code",
   "execution_count": null,
   "metadata": {},
   "outputs": [],
   "source": []
  },
  {
   "cell_type": "code",
   "execution_count": null,
   "metadata": {},
   "outputs": [],
   "source": []
  },
  {
   "cell_type": "code",
   "execution_count": null,
   "metadata": {},
   "outputs": [],
   "source": []
  },
  {
   "cell_type": "code",
   "execution_count": null,
   "metadata": {},
   "outputs": [],
   "source": []
  },
  {
   "cell_type": "code",
   "execution_count": null,
   "metadata": {},
   "outputs": [],
   "source": [
    "# Reverse order lags for X_val \n",
    "\n",
    "X_VAL"
   ]
  },
  {
   "cell_type": "code",
   "execution_count": null,
   "metadata": {},
   "outputs": [],
   "source": []
  },
  {
   "cell_type": "code",
   "execution_count": null,
   "metadata": {},
   "outputs": [],
   "source": [
    "Y_VAL"
   ]
  },
  {
   "cell_type": "code",
   "execution_count": null,
   "metadata": {},
   "outputs": [],
   "source": []
  },
  {
   "cell_type": "code",
   "execution_count": null,
   "metadata": {},
   "outputs": [],
   "source": [
    "### BUILD THE MODEL "
   ]
  },
  {
   "cell_type": "code",
   "execution_count": null,
   "metadata": {},
   "outputs": [],
   "source": [
    "# Three layers the first two with 20 neurons on the first two layers\n",
    "# last layer 1 neuron, because we forecast univariate TS\n",
    "model4 = Sequential()\n",
    "model4.add(SimpleRNN(5,input_shape=(5,1))\n",
    "model4.add(Dense(1,activation=\"Relu\"))"
   ]
  },
  {
   "cell_type": "code",
   "execution_count": null,
   "metadata": {},
   "outputs": [],
   "source": [
    "5"
   ]
  },
  {
   "cell_type": "code",
   "execution_count": null,
   "metadata": {},
   "outputs": [],
   "source": []
  },
  {
   "cell_type": "code",
   "execution_count": null,
   "metadata": {},
   "outputs": [],
   "source": []
  },
  {
   "cell_type": "code",
   "execution_count": null,
   "metadata": {},
   "outputs": [],
   "source": []
  }
 ],
 "metadata": {
  "kernelspec": {
   "display_name": "Python [conda env:Python3]",
   "language": "python",
   "name": "conda-env-Python3-py"
  },
  "language_info": {
   "codemirror_mode": {
    "name": "ipython",
    "version": 3
   },
   "file_extension": ".py",
   "mimetype": "text/x-python",
   "name": "python",
   "nbconvert_exporter": "python",
   "pygments_lexer": "ipython3",
   "version": "3.6.10"
  }
 },
 "nbformat": 4,
 "nbformat_minor": 2
}
